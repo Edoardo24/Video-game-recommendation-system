{
 "cells": [
  {
   "cell_type": "code",
   "execution_count": 1,
   "metadata": {
    "id": "xD4DDiegmN-w"
   },
   "outputs": [],
   "source": [
    "import pandas as pd\n",
    "from sklearn.feature_extraction.text import CountVectorizer \n",
    "import numpy as np\n",
    "from sklearn.metrics.pairwise import cosine_similarity\n",
    "from sklearn.preprocessing import MinMaxScaler\n",
    "from sklearn.decomposition import PCA\n",
    "import matplotlib.pyplot as plt "
   ]
  },
  {
   "cell_type": "code",
   "execution_count": 2,
   "metadata": {
    "id": "uLF2pi4PmS-i"
   },
   "outputs": [],
   "source": [
    "df=pd.read_csv('games.csv')"
   ]
  },
  {
   "cell_type": "code",
   "execution_count": 3,
   "metadata": {
    "colab": {
     "base_uri": "https://localhost:8080/"
    },
    "id": "0_tMqhjd515t",
    "outputId": "4d561c44-d631-40b8-af3f-361a8f92b806"
   },
   "outputs": [
    {
     "data": {
      "text/plain": [
       "(71716, 39)"
      ]
     },
     "execution_count": 3,
     "metadata": {},
     "output_type": "execute_result"
    }
   ],
   "source": [
    "df.shape"
   ]
  },
  {
   "cell_type": "markdown",
   "metadata": {
    "id": "EQuU3e7HF6zS"
   },
   "source": [
    "# Preporcessing"
   ]
  },
  {
   "cell_type": "markdown",
   "metadata": {
    "id": "oV_1SxS_Fj_t"
   },
   "source": [
    "## Quick Cleaning"
   ]
  },
  {
   "cell_type": "code",
   "execution_count": 4,
   "metadata": {
    "colab": {
     "base_uri": "https://localhost:8080/"
    },
    "id": "4YuNpL1bwqlP",
    "outputId": "a93d4e73-e343-4c20-9533-3cd04d6b6ba1"
   },
   "outputs": [
    {
     "data": {
      "text/plain": [
       "0"
      ]
     },
     "execution_count": 4,
     "metadata": {},
     "output_type": "execute_result"
    }
   ],
   "source": [
    "df.duplicated().sum()"
   ]
  },
  {
   "cell_type": "code",
   "execution_count": 5,
   "metadata": {
    "id": "kRmMGu4LxBPq"
   },
   "outputs": [],
   "source": [
    "df=df.drop_duplicates()"
   ]
  },
  {
   "cell_type": "code",
   "execution_count": 6,
   "metadata": {
    "colab": {
     "base_uri": "https://localhost:8080/"
    },
    "id": "l31mELQho3KV",
    "outputId": "951ac2db-9da8-43ae-de88-41f39d58db7f"
   },
   "outputs": [
    {
     "data": {
      "text/plain": [
       "0"
      ]
     },
     "execution_count": 6,
     "metadata": {},
     "output_type": "execute_result"
    }
   ],
   "source": [
    "df.duplicated().sum()"
   ]
  },
  {
   "cell_type": "markdown",
   "metadata": {
    "id": "1U7UxObwF4js"
   },
   "source": [
    "## Renaming Columns"
   ]
  },
  {
   "cell_type": "code",
   "execution_count": 7,
   "metadata": {
    "colab": {
     "base_uri": "https://localhost:8080/"
    },
    "id": "6RkfSPChoOwG",
    "outputId": "db86295a-293f-4bbd-efdf-fb9e6897c8c7"
   },
   "outputs": [
    {
     "data": {
      "text/plain": [
       "Index(['AppID', 'Name', 'Release date', 'Estimated owners', 'Peak CCU',\n",
       "       'Required age', 'Price', 'DLC count', 'About the game',\n",
       "       'Supported languages', 'Full audio languages', 'Reviews',\n",
       "       'Header image', 'Website', 'Support url', 'Support email', 'Windows',\n",
       "       'Mac', 'Linux', 'Metacritic score', 'Metacritic url', 'User score',\n",
       "       'Positive', 'Negative', 'Score rank', 'Achievements', 'Recommendations',\n",
       "       'Notes', 'Average playtime forever', 'Average playtime two weeks',\n",
       "       'Median playtime forever', 'Median playtime two weeks', 'Developers',\n",
       "       'Publishers', 'Categories', 'Genres', 'Tags', 'Screenshots', 'Movies'],\n",
       "      dtype='object')"
      ]
     },
     "execution_count": 7,
     "metadata": {},
     "output_type": "execute_result"
    }
   ],
   "source": [
    "df.columns\n"
   ]
  },
  {
   "cell_type": "code",
   "execution_count": 8,
   "metadata": {
    "id": "NY_qq3yinuEG"
   },
   "outputs": [],
   "source": [
    "df = df.rename(columns={'Supported languages': 'language', 'Release date': 'Release_Date',\n",
    "                        'Estimated owners': 'Estimated_Owners',\n",
    "                        'Peak CCU': 'Peak_CCU','Required age': 'Req_Age',\n",
    "                        'About the game': 'Overview',\n",
    "                         'Score rank': 'Score_Rank',\n",
    "                        'Metacritic score': 'Metacritic_Score',\n",
    "                        'User score': 'User_Score',\n",
    "                        'Average playtime forever':'Average_playtime_forever',\n",
    "                        'Average playtime two weeks':'Average_playtime_2weeks',\n",
    "                        'Median playtime forever':'Median_playtime_forever', \n",
    "                        'Median playtime two weeks': 'Median_playtime_forever',\n",
    "                        })"
   ]
  },
  {
   "cell_type": "code",
   "execution_count": 9,
   "metadata": {
    "colab": {
     "base_uri": "https://localhost:8080/",
     "height": 681
    },
    "id": "9YnbeBZR6qG-",
    "outputId": "c11f05e4-2e3f-4f29-a6ac-97c6a43b12b2"
   },
   "outputs": [
    {
     "data": {
      "text/html": [
       "<div>\n",
       "<style scoped>\n",
       "    .dataframe tbody tr th:only-of-type {\n",
       "        vertical-align: middle;\n",
       "    }\n",
       "\n",
       "    .dataframe tbody tr th {\n",
       "        vertical-align: top;\n",
       "    }\n",
       "\n",
       "    .dataframe thead th {\n",
       "        text-align: right;\n",
       "    }\n",
       "</style>\n",
       "<table border=\"1\" class=\"dataframe\">\n",
       "  <thead>\n",
       "    <tr style=\"text-align: right;\">\n",
       "      <th></th>\n",
       "      <th>AppID</th>\n",
       "      <th>Name</th>\n",
       "      <th>Release_Date</th>\n",
       "      <th>Estimated_Owners</th>\n",
       "      <th>Peak_CCU</th>\n",
       "      <th>Req_Age</th>\n",
       "      <th>Price</th>\n",
       "      <th>DLC count</th>\n",
       "      <th>Overview</th>\n",
       "      <th>language</th>\n",
       "      <th>...</th>\n",
       "      <th>Average_playtime_2weeks</th>\n",
       "      <th>Median_playtime_forever</th>\n",
       "      <th>Median_playtime_forever</th>\n",
       "      <th>Developers</th>\n",
       "      <th>Publishers</th>\n",
       "      <th>Categories</th>\n",
       "      <th>Genres</th>\n",
       "      <th>Tags</th>\n",
       "      <th>Screenshots</th>\n",
       "      <th>Movies</th>\n",
       "    </tr>\n",
       "  </thead>\n",
       "  <tbody>\n",
       "    <tr>\n",
       "      <th>0</th>\n",
       "      <td>20200</td>\n",
       "      <td>Galactic Bowling</td>\n",
       "      <td>Oct 21, 2008</td>\n",
       "      <td>0 - 20000</td>\n",
       "      <td>0</td>\n",
       "      <td>0</td>\n",
       "      <td>19.99</td>\n",
       "      <td>0</td>\n",
       "      <td>Galactic Bowling is an exaggerated and stylize...</td>\n",
       "      <td>['English']</td>\n",
       "      <td>...</td>\n",
       "      <td>0</td>\n",
       "      <td>0</td>\n",
       "      <td>0</td>\n",
       "      <td>Perpetual FX Creative</td>\n",
       "      <td>Perpetual FX Creative</td>\n",
       "      <td>Single-player,Multi-player,Steam Achievements,...</td>\n",
       "      <td>Casual,Indie,Sports</td>\n",
       "      <td>Indie,Casual,Sports,Bowling</td>\n",
       "      <td>https://cdn.akamai.steamstatic.com/steam/apps/...</td>\n",
       "      <td>http://cdn.akamai.steamstatic.com/steam/apps/2...</td>\n",
       "    </tr>\n",
       "    <tr>\n",
       "      <th>1</th>\n",
       "      <td>655370</td>\n",
       "      <td>Train Bandit</td>\n",
       "      <td>Oct 12, 2017</td>\n",
       "      <td>0 - 20000</td>\n",
       "      <td>0</td>\n",
       "      <td>0</td>\n",
       "      <td>0.99</td>\n",
       "      <td>0</td>\n",
       "      <td>THE LAW!! Looks to be a showdown atop a train....</td>\n",
       "      <td>['English', 'French', 'Italian', 'German', 'Sp...</td>\n",
       "      <td>...</td>\n",
       "      <td>0</td>\n",
       "      <td>0</td>\n",
       "      <td>0</td>\n",
       "      <td>Rusty Moyher</td>\n",
       "      <td>Wild Rooster</td>\n",
       "      <td>Single-player,Steam Achievements,Full controll...</td>\n",
       "      <td>Action,Indie</td>\n",
       "      <td>Indie,Action,Pixel Graphics,2D,Retro,Arcade,Sc...</td>\n",
       "      <td>https://cdn.akamai.steamstatic.com/steam/apps/...</td>\n",
       "      <td>http://cdn.akamai.steamstatic.com/steam/apps/2...</td>\n",
       "    </tr>\n",
       "    <tr>\n",
       "      <th>2</th>\n",
       "      <td>1732930</td>\n",
       "      <td>Jolt Project</td>\n",
       "      <td>Nov 17, 2021</td>\n",
       "      <td>0 - 20000</td>\n",
       "      <td>0</td>\n",
       "      <td>0</td>\n",
       "      <td>4.99</td>\n",
       "      <td>0</td>\n",
       "      <td>Jolt Project: The army now has a new robotics ...</td>\n",
       "      <td>['English', 'Portuguese - Brazil']</td>\n",
       "      <td>...</td>\n",
       "      <td>0</td>\n",
       "      <td>0</td>\n",
       "      <td>0</td>\n",
       "      <td>Campião Games</td>\n",
       "      <td>Campião Games</td>\n",
       "      <td>Single-player</td>\n",
       "      <td>Action,Adventure,Indie,Strategy</td>\n",
       "      <td>NaN</td>\n",
       "      <td>https://cdn.akamai.steamstatic.com/steam/apps/...</td>\n",
       "      <td>http://cdn.akamai.steamstatic.com/steam/apps/2...</td>\n",
       "    </tr>\n",
       "    <tr>\n",
       "      <th>3</th>\n",
       "      <td>1355720</td>\n",
       "      <td>Henosis™</td>\n",
       "      <td>Jul 23, 2020</td>\n",
       "      <td>0 - 20000</td>\n",
       "      <td>0</td>\n",
       "      <td>0</td>\n",
       "      <td>5.99</td>\n",
       "      <td>0</td>\n",
       "      <td>HENOSIS™ is a mysterious 2D Platform Puzzler w...</td>\n",
       "      <td>['English', 'French', 'Italian', 'German', 'Sp...</td>\n",
       "      <td>...</td>\n",
       "      <td>0</td>\n",
       "      <td>0</td>\n",
       "      <td>0</td>\n",
       "      <td>Odd Critter Games</td>\n",
       "      <td>Odd Critter Games</td>\n",
       "      <td>Single-player,Full controller support</td>\n",
       "      <td>Adventure,Casual,Indie</td>\n",
       "      <td>2D Platformer,Atmospheric,Surreal,Mystery,Puzz...</td>\n",
       "      <td>https://cdn.akamai.steamstatic.com/steam/apps/...</td>\n",
       "      <td>http://cdn.akamai.steamstatic.com/steam/apps/2...</td>\n",
       "    </tr>\n",
       "    <tr>\n",
       "      <th>4</th>\n",
       "      <td>1139950</td>\n",
       "      <td>Two Weeks in Painland</td>\n",
       "      <td>Feb 3, 2020</td>\n",
       "      <td>0 - 20000</td>\n",
       "      <td>0</td>\n",
       "      <td>0</td>\n",
       "      <td>0.00</td>\n",
       "      <td>0</td>\n",
       "      <td>ABOUT THE GAME Play as a hacker who has arrang...</td>\n",
       "      <td>['English', 'Spanish - Spain']</td>\n",
       "      <td>...</td>\n",
       "      <td>0</td>\n",
       "      <td>0</td>\n",
       "      <td>0</td>\n",
       "      <td>Unusual Games</td>\n",
       "      <td>Unusual Games</td>\n",
       "      <td>Single-player,Steam Achievements</td>\n",
       "      <td>Adventure,Indie</td>\n",
       "      <td>Indie,Adventure,Nudity,Violent,Sexual Content,...</td>\n",
       "      <td>https://cdn.akamai.steamstatic.com/steam/apps/...</td>\n",
       "      <td>http://cdn.akamai.steamstatic.com/steam/apps/2...</td>\n",
       "    </tr>\n",
       "  </tbody>\n",
       "</table>\n",
       "<p>5 rows × 39 columns</p>\n",
       "</div>"
      ],
      "text/plain": [
       "     AppID                   Name  Release_Date Estimated_Owners  Peak_CCU  \\\n",
       "0    20200       Galactic Bowling  Oct 21, 2008        0 - 20000         0   \n",
       "1   655370           Train Bandit  Oct 12, 2017        0 - 20000         0   \n",
       "2  1732930           Jolt Project  Nov 17, 2021        0 - 20000         0   \n",
       "3  1355720               Henosis™  Jul 23, 2020        0 - 20000         0   \n",
       "4  1139950  Two Weeks in Painland   Feb 3, 2020        0 - 20000         0   \n",
       "\n",
       "   Req_Age  Price  DLC count  \\\n",
       "0        0  19.99          0   \n",
       "1        0   0.99          0   \n",
       "2        0   4.99          0   \n",
       "3        0   5.99          0   \n",
       "4        0   0.00          0   \n",
       "\n",
       "                                            Overview  \\\n",
       "0  Galactic Bowling is an exaggerated and stylize...   \n",
       "1  THE LAW!! Looks to be a showdown atop a train....   \n",
       "2  Jolt Project: The army now has a new robotics ...   \n",
       "3  HENOSIS™ is a mysterious 2D Platform Puzzler w...   \n",
       "4  ABOUT THE GAME Play as a hacker who has arrang...   \n",
       "\n",
       "                                            language  ...  \\\n",
       "0                                        ['English']  ...   \n",
       "1  ['English', 'French', 'Italian', 'German', 'Sp...  ...   \n",
       "2                 ['English', 'Portuguese - Brazil']  ...   \n",
       "3  ['English', 'French', 'Italian', 'German', 'Sp...  ...   \n",
       "4                     ['English', 'Spanish - Spain']  ...   \n",
       "\n",
       "  Average_playtime_2weeks Median_playtime_forever Median_playtime_forever  \\\n",
       "0                       0                       0                       0   \n",
       "1                       0                       0                       0   \n",
       "2                       0                       0                       0   \n",
       "3                       0                       0                       0   \n",
       "4                       0                       0                       0   \n",
       "\n",
       "              Developers             Publishers  \\\n",
       "0  Perpetual FX Creative  Perpetual FX Creative   \n",
       "1           Rusty Moyher           Wild Rooster   \n",
       "2          Campião Games          Campião Games   \n",
       "3      Odd Critter Games      Odd Critter Games   \n",
       "4          Unusual Games          Unusual Games   \n",
       "\n",
       "                                          Categories  \\\n",
       "0  Single-player,Multi-player,Steam Achievements,...   \n",
       "1  Single-player,Steam Achievements,Full controll...   \n",
       "2                                      Single-player   \n",
       "3              Single-player,Full controller support   \n",
       "4                   Single-player,Steam Achievements   \n",
       "\n",
       "                            Genres  \\\n",
       "0              Casual,Indie,Sports   \n",
       "1                     Action,Indie   \n",
       "2  Action,Adventure,Indie,Strategy   \n",
       "3           Adventure,Casual,Indie   \n",
       "4                  Adventure,Indie   \n",
       "\n",
       "                                                Tags  \\\n",
       "0                        Indie,Casual,Sports,Bowling   \n",
       "1  Indie,Action,Pixel Graphics,2D,Retro,Arcade,Sc...   \n",
       "2                                                NaN   \n",
       "3  2D Platformer,Atmospheric,Surreal,Mystery,Puzz...   \n",
       "4  Indie,Adventure,Nudity,Violent,Sexual Content,...   \n",
       "\n",
       "                                         Screenshots  \\\n",
       "0  https://cdn.akamai.steamstatic.com/steam/apps/...   \n",
       "1  https://cdn.akamai.steamstatic.com/steam/apps/...   \n",
       "2  https://cdn.akamai.steamstatic.com/steam/apps/...   \n",
       "3  https://cdn.akamai.steamstatic.com/steam/apps/...   \n",
       "4  https://cdn.akamai.steamstatic.com/steam/apps/...   \n",
       "\n",
       "                                              Movies  \n",
       "0  http://cdn.akamai.steamstatic.com/steam/apps/2...  \n",
       "1  http://cdn.akamai.steamstatic.com/steam/apps/2...  \n",
       "2  http://cdn.akamai.steamstatic.com/steam/apps/2...  \n",
       "3  http://cdn.akamai.steamstatic.com/steam/apps/2...  \n",
       "4  http://cdn.akamai.steamstatic.com/steam/apps/2...  \n",
       "\n",
       "[5 rows x 39 columns]"
      ]
     },
     "execution_count": 9,
     "metadata": {},
     "output_type": "execute_result"
    }
   ],
   "source": [
    "df.head()"
   ]
  },
  {
   "cell_type": "code",
   "execution_count": 10,
   "metadata": {
    "id": "0UCK9y22VNLM"
   },
   "outputs": [],
   "source": [
    "df=df.iloc[:20000]"
   ]
  },
  {
   "cell_type": "code",
   "execution_count": 11,
   "metadata": {
    "colab": {
     "base_uri": "https://localhost:8080/",
     "height": 681
    },
    "id": "VsgdQxiWV9V7",
    "outputId": "c07c4959-2b36-478f-c574-16aa2b1c717a"
   },
   "outputs": [
    {
     "data": {
      "text/html": [
       "<div>\n",
       "<style scoped>\n",
       "    .dataframe tbody tr th:only-of-type {\n",
       "        vertical-align: middle;\n",
       "    }\n",
       "\n",
       "    .dataframe tbody tr th {\n",
       "        vertical-align: top;\n",
       "    }\n",
       "\n",
       "    .dataframe thead th {\n",
       "        text-align: right;\n",
       "    }\n",
       "</style>\n",
       "<table border=\"1\" class=\"dataframe\">\n",
       "  <thead>\n",
       "    <tr style=\"text-align: right;\">\n",
       "      <th></th>\n",
       "      <th>AppID</th>\n",
       "      <th>Name</th>\n",
       "      <th>Release_Date</th>\n",
       "      <th>Estimated_Owners</th>\n",
       "      <th>Peak_CCU</th>\n",
       "      <th>Req_Age</th>\n",
       "      <th>Price</th>\n",
       "      <th>DLC count</th>\n",
       "      <th>Overview</th>\n",
       "      <th>language</th>\n",
       "      <th>...</th>\n",
       "      <th>Average_playtime_2weeks</th>\n",
       "      <th>Median_playtime_forever</th>\n",
       "      <th>Median_playtime_forever</th>\n",
       "      <th>Developers</th>\n",
       "      <th>Publishers</th>\n",
       "      <th>Categories</th>\n",
       "      <th>Genres</th>\n",
       "      <th>Tags</th>\n",
       "      <th>Screenshots</th>\n",
       "      <th>Movies</th>\n",
       "    </tr>\n",
       "  </thead>\n",
       "  <tbody>\n",
       "    <tr>\n",
       "      <th>0</th>\n",
       "      <td>20200</td>\n",
       "      <td>Galactic Bowling</td>\n",
       "      <td>Oct 21, 2008</td>\n",
       "      <td>0 - 20000</td>\n",
       "      <td>0</td>\n",
       "      <td>0</td>\n",
       "      <td>19.99</td>\n",
       "      <td>0</td>\n",
       "      <td>Galactic Bowling is an exaggerated and stylize...</td>\n",
       "      <td>['English']</td>\n",
       "      <td>...</td>\n",
       "      <td>0</td>\n",
       "      <td>0</td>\n",
       "      <td>0</td>\n",
       "      <td>Perpetual FX Creative</td>\n",
       "      <td>Perpetual FX Creative</td>\n",
       "      <td>Single-player,Multi-player,Steam Achievements,...</td>\n",
       "      <td>Casual,Indie,Sports</td>\n",
       "      <td>Indie,Casual,Sports,Bowling</td>\n",
       "      <td>https://cdn.akamai.steamstatic.com/steam/apps/...</td>\n",
       "      <td>http://cdn.akamai.steamstatic.com/steam/apps/2...</td>\n",
       "    </tr>\n",
       "    <tr>\n",
       "      <th>1</th>\n",
       "      <td>655370</td>\n",
       "      <td>Train Bandit</td>\n",
       "      <td>Oct 12, 2017</td>\n",
       "      <td>0 - 20000</td>\n",
       "      <td>0</td>\n",
       "      <td>0</td>\n",
       "      <td>0.99</td>\n",
       "      <td>0</td>\n",
       "      <td>THE LAW!! Looks to be a showdown atop a train....</td>\n",
       "      <td>['English', 'French', 'Italian', 'German', 'Sp...</td>\n",
       "      <td>...</td>\n",
       "      <td>0</td>\n",
       "      <td>0</td>\n",
       "      <td>0</td>\n",
       "      <td>Rusty Moyher</td>\n",
       "      <td>Wild Rooster</td>\n",
       "      <td>Single-player,Steam Achievements,Full controll...</td>\n",
       "      <td>Action,Indie</td>\n",
       "      <td>Indie,Action,Pixel Graphics,2D,Retro,Arcade,Sc...</td>\n",
       "      <td>https://cdn.akamai.steamstatic.com/steam/apps/...</td>\n",
       "      <td>http://cdn.akamai.steamstatic.com/steam/apps/2...</td>\n",
       "    </tr>\n",
       "    <tr>\n",
       "      <th>2</th>\n",
       "      <td>1732930</td>\n",
       "      <td>Jolt Project</td>\n",
       "      <td>Nov 17, 2021</td>\n",
       "      <td>0 - 20000</td>\n",
       "      <td>0</td>\n",
       "      <td>0</td>\n",
       "      <td>4.99</td>\n",
       "      <td>0</td>\n",
       "      <td>Jolt Project: The army now has a new robotics ...</td>\n",
       "      <td>['English', 'Portuguese - Brazil']</td>\n",
       "      <td>...</td>\n",
       "      <td>0</td>\n",
       "      <td>0</td>\n",
       "      <td>0</td>\n",
       "      <td>Campião Games</td>\n",
       "      <td>Campião Games</td>\n",
       "      <td>Single-player</td>\n",
       "      <td>Action,Adventure,Indie,Strategy</td>\n",
       "      <td>NaN</td>\n",
       "      <td>https://cdn.akamai.steamstatic.com/steam/apps/...</td>\n",
       "      <td>http://cdn.akamai.steamstatic.com/steam/apps/2...</td>\n",
       "    </tr>\n",
       "    <tr>\n",
       "      <th>3</th>\n",
       "      <td>1355720</td>\n",
       "      <td>Henosis™</td>\n",
       "      <td>Jul 23, 2020</td>\n",
       "      <td>0 - 20000</td>\n",
       "      <td>0</td>\n",
       "      <td>0</td>\n",
       "      <td>5.99</td>\n",
       "      <td>0</td>\n",
       "      <td>HENOSIS™ is a mysterious 2D Platform Puzzler w...</td>\n",
       "      <td>['English', 'French', 'Italian', 'German', 'Sp...</td>\n",
       "      <td>...</td>\n",
       "      <td>0</td>\n",
       "      <td>0</td>\n",
       "      <td>0</td>\n",
       "      <td>Odd Critter Games</td>\n",
       "      <td>Odd Critter Games</td>\n",
       "      <td>Single-player,Full controller support</td>\n",
       "      <td>Adventure,Casual,Indie</td>\n",
       "      <td>2D Platformer,Atmospheric,Surreal,Mystery,Puzz...</td>\n",
       "      <td>https://cdn.akamai.steamstatic.com/steam/apps/...</td>\n",
       "      <td>http://cdn.akamai.steamstatic.com/steam/apps/2...</td>\n",
       "    </tr>\n",
       "    <tr>\n",
       "      <th>4</th>\n",
       "      <td>1139950</td>\n",
       "      <td>Two Weeks in Painland</td>\n",
       "      <td>Feb 3, 2020</td>\n",
       "      <td>0 - 20000</td>\n",
       "      <td>0</td>\n",
       "      <td>0</td>\n",
       "      <td>0.00</td>\n",
       "      <td>0</td>\n",
       "      <td>ABOUT THE GAME Play as a hacker who has arrang...</td>\n",
       "      <td>['English', 'Spanish - Spain']</td>\n",
       "      <td>...</td>\n",
       "      <td>0</td>\n",
       "      <td>0</td>\n",
       "      <td>0</td>\n",
       "      <td>Unusual Games</td>\n",
       "      <td>Unusual Games</td>\n",
       "      <td>Single-player,Steam Achievements</td>\n",
       "      <td>Adventure,Indie</td>\n",
       "      <td>Indie,Adventure,Nudity,Violent,Sexual Content,...</td>\n",
       "      <td>https://cdn.akamai.steamstatic.com/steam/apps/...</td>\n",
       "      <td>http://cdn.akamai.steamstatic.com/steam/apps/2...</td>\n",
       "    </tr>\n",
       "  </tbody>\n",
       "</table>\n",
       "<p>5 rows × 39 columns</p>\n",
       "</div>"
      ],
      "text/plain": [
       "     AppID                   Name  Release_Date Estimated_Owners  Peak_CCU  \\\n",
       "0    20200       Galactic Bowling  Oct 21, 2008        0 - 20000         0   \n",
       "1   655370           Train Bandit  Oct 12, 2017        0 - 20000         0   \n",
       "2  1732930           Jolt Project  Nov 17, 2021        0 - 20000         0   \n",
       "3  1355720               Henosis™  Jul 23, 2020        0 - 20000         0   \n",
       "4  1139950  Two Weeks in Painland   Feb 3, 2020        0 - 20000         0   \n",
       "\n",
       "   Req_Age  Price  DLC count  \\\n",
       "0        0  19.99          0   \n",
       "1        0   0.99          0   \n",
       "2        0   4.99          0   \n",
       "3        0   5.99          0   \n",
       "4        0   0.00          0   \n",
       "\n",
       "                                            Overview  \\\n",
       "0  Galactic Bowling is an exaggerated and stylize...   \n",
       "1  THE LAW!! Looks to be a showdown atop a train....   \n",
       "2  Jolt Project: The army now has a new robotics ...   \n",
       "3  HENOSIS™ is a mysterious 2D Platform Puzzler w...   \n",
       "4  ABOUT THE GAME Play as a hacker who has arrang...   \n",
       "\n",
       "                                            language  ...  \\\n",
       "0                                        ['English']  ...   \n",
       "1  ['English', 'French', 'Italian', 'German', 'Sp...  ...   \n",
       "2                 ['English', 'Portuguese - Brazil']  ...   \n",
       "3  ['English', 'French', 'Italian', 'German', 'Sp...  ...   \n",
       "4                     ['English', 'Spanish - Spain']  ...   \n",
       "\n",
       "  Average_playtime_2weeks Median_playtime_forever Median_playtime_forever  \\\n",
       "0                       0                       0                       0   \n",
       "1                       0                       0                       0   \n",
       "2                       0                       0                       0   \n",
       "3                       0                       0                       0   \n",
       "4                       0                       0                       0   \n",
       "\n",
       "              Developers             Publishers  \\\n",
       "0  Perpetual FX Creative  Perpetual FX Creative   \n",
       "1           Rusty Moyher           Wild Rooster   \n",
       "2          Campião Games          Campião Games   \n",
       "3      Odd Critter Games      Odd Critter Games   \n",
       "4          Unusual Games          Unusual Games   \n",
       "\n",
       "                                          Categories  \\\n",
       "0  Single-player,Multi-player,Steam Achievements,...   \n",
       "1  Single-player,Steam Achievements,Full controll...   \n",
       "2                                      Single-player   \n",
       "3              Single-player,Full controller support   \n",
       "4                   Single-player,Steam Achievements   \n",
       "\n",
       "                            Genres  \\\n",
       "0              Casual,Indie,Sports   \n",
       "1                     Action,Indie   \n",
       "2  Action,Adventure,Indie,Strategy   \n",
       "3           Adventure,Casual,Indie   \n",
       "4                  Adventure,Indie   \n",
       "\n",
       "                                                Tags  \\\n",
       "0                        Indie,Casual,Sports,Bowling   \n",
       "1  Indie,Action,Pixel Graphics,2D,Retro,Arcade,Sc...   \n",
       "2                                                NaN   \n",
       "3  2D Platformer,Atmospheric,Surreal,Mystery,Puzz...   \n",
       "4  Indie,Adventure,Nudity,Violent,Sexual Content,...   \n",
       "\n",
       "                                         Screenshots  \\\n",
       "0  https://cdn.akamai.steamstatic.com/steam/apps/...   \n",
       "1  https://cdn.akamai.steamstatic.com/steam/apps/...   \n",
       "2  https://cdn.akamai.steamstatic.com/steam/apps/...   \n",
       "3  https://cdn.akamai.steamstatic.com/steam/apps/...   \n",
       "4  https://cdn.akamai.steamstatic.com/steam/apps/...   \n",
       "\n",
       "                                              Movies  \n",
       "0  http://cdn.akamai.steamstatic.com/steam/apps/2...  \n",
       "1  http://cdn.akamai.steamstatic.com/steam/apps/2...  \n",
       "2  http://cdn.akamai.steamstatic.com/steam/apps/2...  \n",
       "3  http://cdn.akamai.steamstatic.com/steam/apps/2...  \n",
       "4  http://cdn.akamai.steamstatic.com/steam/apps/2...  \n",
       "\n",
       "[5 rows x 39 columns]"
      ]
     },
     "execution_count": 11,
     "metadata": {},
     "output_type": "execute_result"
    }
   ],
   "source": [
    "df.head()"
   ]
  },
  {
   "cell_type": "markdown",
   "metadata": {
    "id": "dzj9Nv60GFGw"
   },
   "source": [
    "## Switching User's choice to first row"
   ]
  },
  {
   "cell_type": "code",
   "execution_count": 12,
   "metadata": {
    "id": "MsXjInSD1i-Q"
   },
   "outputs": [],
   "source": [
    "index1 = df.loc[df['Name'] == 'Train Bandit'].index[0]"
   ]
  },
  {
   "cell_type": "code",
   "execution_count": 13,
   "metadata": {
    "colab": {
     "base_uri": "https://localhost:8080/"
    },
    "id": "NNo3xuvN5Kmu",
    "outputId": "923fbff6-1e64-422a-8029-6ae1f7a4e246"
   },
   "outputs": [
    {
     "name": "stdout",
     "output_type": "stream",
     "text": [
      "1\n"
     ]
    }
   ],
   "source": [
    "print(index1)"
   ]
  },
  {
   "cell_type": "code",
   "execution_count": 14,
   "metadata": {
    "colab": {
     "base_uri": "https://localhost:8080/"
    },
    "id": "VAEzN9He0jJe",
    "outputId": "42b7718b-26f2-4fed-e964-b3921ad7e939"
   },
   "outputs": [
    {
     "name": "stderr",
     "output_type": "stream",
     "text": [
      "C:\\Users\\edoar\\AppData\\Local\\Temp\\ipykernel_5496\\329920085.py:3: FutureWarning: The frame.append method is deprecated and will be removed from pandas in a future version. Use pandas.concat instead.\n",
      "  df = row_to_move.to_frame().transpose().append(df)  # append the row to the top of the DataFrame\n"
     ]
    }
   ],
   "source": [
    "row_to_move = df.iloc[index1]  # save the row as a Series\n",
    "df= df.drop(index1, axis=0)  # remove the row from the DataFrame\n",
    "df = row_to_move.to_frame().transpose().append(df)  # append the row to the top of the DataFrame\n"
   ]
  },
  {
   "cell_type": "code",
   "execution_count": 15,
   "metadata": {
    "id": "s-2ib9Sq0e1q"
   },
   "outputs": [],
   "source": [
    "df=df.reset_index(drop=True)"
   ]
  },
  {
   "cell_type": "code",
   "execution_count": 16,
   "metadata": {
    "colab": {
     "base_uri": "https://localhost:8080/",
     "height": 681
    },
    "id": "L0xnOE4V0jEh",
    "outputId": "0e7f4475-7f17-451a-ed42-f1bbeed2bd93"
   },
   "outputs": [
    {
     "data": {
      "text/html": [
       "<div>\n",
       "<style scoped>\n",
       "    .dataframe tbody tr th:only-of-type {\n",
       "        vertical-align: middle;\n",
       "    }\n",
       "\n",
       "    .dataframe tbody tr th {\n",
       "        vertical-align: top;\n",
       "    }\n",
       "\n",
       "    .dataframe thead th {\n",
       "        text-align: right;\n",
       "    }\n",
       "</style>\n",
       "<table border=\"1\" class=\"dataframe\">\n",
       "  <thead>\n",
       "    <tr style=\"text-align: right;\">\n",
       "      <th></th>\n",
       "      <th>AppID</th>\n",
       "      <th>Name</th>\n",
       "      <th>Release_Date</th>\n",
       "      <th>Estimated_Owners</th>\n",
       "      <th>Peak_CCU</th>\n",
       "      <th>Req_Age</th>\n",
       "      <th>Price</th>\n",
       "      <th>DLC count</th>\n",
       "      <th>Overview</th>\n",
       "      <th>language</th>\n",
       "      <th>...</th>\n",
       "      <th>Average_playtime_2weeks</th>\n",
       "      <th>Median_playtime_forever</th>\n",
       "      <th>Median_playtime_forever</th>\n",
       "      <th>Developers</th>\n",
       "      <th>Publishers</th>\n",
       "      <th>Categories</th>\n",
       "      <th>Genres</th>\n",
       "      <th>Tags</th>\n",
       "      <th>Screenshots</th>\n",
       "      <th>Movies</th>\n",
       "    </tr>\n",
       "  </thead>\n",
       "  <tbody>\n",
       "    <tr>\n",
       "      <th>0</th>\n",
       "      <td>655370</td>\n",
       "      <td>Train Bandit</td>\n",
       "      <td>Oct 12, 2017</td>\n",
       "      <td>0 - 20000</td>\n",
       "      <td>0</td>\n",
       "      <td>0</td>\n",
       "      <td>0.99</td>\n",
       "      <td>0</td>\n",
       "      <td>THE LAW!! Looks to be a showdown atop a train....</td>\n",
       "      <td>['English', 'French', 'Italian', 'German', 'Sp...</td>\n",
       "      <td>...</td>\n",
       "      <td>0</td>\n",
       "      <td>0</td>\n",
       "      <td>0</td>\n",
       "      <td>Rusty Moyher</td>\n",
       "      <td>Wild Rooster</td>\n",
       "      <td>Single-player,Steam Achievements,Full controll...</td>\n",
       "      <td>Action,Indie</td>\n",
       "      <td>Indie,Action,Pixel Graphics,2D,Retro,Arcade,Sc...</td>\n",
       "      <td>https://cdn.akamai.steamstatic.com/steam/apps/...</td>\n",
       "      <td>http://cdn.akamai.steamstatic.com/steam/apps/2...</td>\n",
       "    </tr>\n",
       "    <tr>\n",
       "      <th>1</th>\n",
       "      <td>20200</td>\n",
       "      <td>Galactic Bowling</td>\n",
       "      <td>Oct 21, 2008</td>\n",
       "      <td>0 - 20000</td>\n",
       "      <td>0</td>\n",
       "      <td>0</td>\n",
       "      <td>19.99</td>\n",
       "      <td>0</td>\n",
       "      <td>Galactic Bowling is an exaggerated and stylize...</td>\n",
       "      <td>['English']</td>\n",
       "      <td>...</td>\n",
       "      <td>0</td>\n",
       "      <td>0</td>\n",
       "      <td>0</td>\n",
       "      <td>Perpetual FX Creative</td>\n",
       "      <td>Perpetual FX Creative</td>\n",
       "      <td>Single-player,Multi-player,Steam Achievements,...</td>\n",
       "      <td>Casual,Indie,Sports</td>\n",
       "      <td>Indie,Casual,Sports,Bowling</td>\n",
       "      <td>https://cdn.akamai.steamstatic.com/steam/apps/...</td>\n",
       "      <td>http://cdn.akamai.steamstatic.com/steam/apps/2...</td>\n",
       "    </tr>\n",
       "    <tr>\n",
       "      <th>2</th>\n",
       "      <td>1732930</td>\n",
       "      <td>Jolt Project</td>\n",
       "      <td>Nov 17, 2021</td>\n",
       "      <td>0 - 20000</td>\n",
       "      <td>0</td>\n",
       "      <td>0</td>\n",
       "      <td>4.99</td>\n",
       "      <td>0</td>\n",
       "      <td>Jolt Project: The army now has a new robotics ...</td>\n",
       "      <td>['English', 'Portuguese - Brazil']</td>\n",
       "      <td>...</td>\n",
       "      <td>0</td>\n",
       "      <td>0</td>\n",
       "      <td>0</td>\n",
       "      <td>Campião Games</td>\n",
       "      <td>Campião Games</td>\n",
       "      <td>Single-player</td>\n",
       "      <td>Action,Adventure,Indie,Strategy</td>\n",
       "      <td>NaN</td>\n",
       "      <td>https://cdn.akamai.steamstatic.com/steam/apps/...</td>\n",
       "      <td>http://cdn.akamai.steamstatic.com/steam/apps/2...</td>\n",
       "    </tr>\n",
       "    <tr>\n",
       "      <th>3</th>\n",
       "      <td>1355720</td>\n",
       "      <td>Henosis™</td>\n",
       "      <td>Jul 23, 2020</td>\n",
       "      <td>0 - 20000</td>\n",
       "      <td>0</td>\n",
       "      <td>0</td>\n",
       "      <td>5.99</td>\n",
       "      <td>0</td>\n",
       "      <td>HENOSIS™ is a mysterious 2D Platform Puzzler w...</td>\n",
       "      <td>['English', 'French', 'Italian', 'German', 'Sp...</td>\n",
       "      <td>...</td>\n",
       "      <td>0</td>\n",
       "      <td>0</td>\n",
       "      <td>0</td>\n",
       "      <td>Odd Critter Games</td>\n",
       "      <td>Odd Critter Games</td>\n",
       "      <td>Single-player,Full controller support</td>\n",
       "      <td>Adventure,Casual,Indie</td>\n",
       "      <td>2D Platformer,Atmospheric,Surreal,Mystery,Puzz...</td>\n",
       "      <td>https://cdn.akamai.steamstatic.com/steam/apps/...</td>\n",
       "      <td>http://cdn.akamai.steamstatic.com/steam/apps/2...</td>\n",
       "    </tr>\n",
       "    <tr>\n",
       "      <th>4</th>\n",
       "      <td>1139950</td>\n",
       "      <td>Two Weeks in Painland</td>\n",
       "      <td>Feb 3, 2020</td>\n",
       "      <td>0 - 20000</td>\n",
       "      <td>0</td>\n",
       "      <td>0</td>\n",
       "      <td>0.0</td>\n",
       "      <td>0</td>\n",
       "      <td>ABOUT THE GAME Play as a hacker who has arrang...</td>\n",
       "      <td>['English', 'Spanish - Spain']</td>\n",
       "      <td>...</td>\n",
       "      <td>0</td>\n",
       "      <td>0</td>\n",
       "      <td>0</td>\n",
       "      <td>Unusual Games</td>\n",
       "      <td>Unusual Games</td>\n",
       "      <td>Single-player,Steam Achievements</td>\n",
       "      <td>Adventure,Indie</td>\n",
       "      <td>Indie,Adventure,Nudity,Violent,Sexual Content,...</td>\n",
       "      <td>https://cdn.akamai.steamstatic.com/steam/apps/...</td>\n",
       "      <td>http://cdn.akamai.steamstatic.com/steam/apps/2...</td>\n",
       "    </tr>\n",
       "  </tbody>\n",
       "</table>\n",
       "<p>5 rows × 39 columns</p>\n",
       "</div>"
      ],
      "text/plain": [
       "     AppID                   Name  Release_Date Estimated_Owners Peak_CCU  \\\n",
       "0   655370           Train Bandit  Oct 12, 2017        0 - 20000        0   \n",
       "1    20200       Galactic Bowling  Oct 21, 2008        0 - 20000        0   \n",
       "2  1732930           Jolt Project  Nov 17, 2021        0 - 20000        0   \n",
       "3  1355720               Henosis™  Jul 23, 2020        0 - 20000        0   \n",
       "4  1139950  Two Weeks in Painland   Feb 3, 2020        0 - 20000        0   \n",
       "\n",
       "  Req_Age  Price DLC count                                           Overview  \\\n",
       "0       0   0.99         0  THE LAW!! Looks to be a showdown atop a train....   \n",
       "1       0  19.99         0  Galactic Bowling is an exaggerated and stylize...   \n",
       "2       0   4.99         0  Jolt Project: The army now has a new robotics ...   \n",
       "3       0   5.99         0  HENOSIS™ is a mysterious 2D Platform Puzzler w...   \n",
       "4       0    0.0         0  ABOUT THE GAME Play as a hacker who has arrang...   \n",
       "\n",
       "                                            language  ...  \\\n",
       "0  ['English', 'French', 'Italian', 'German', 'Sp...  ...   \n",
       "1                                        ['English']  ...   \n",
       "2                 ['English', 'Portuguese - Brazil']  ...   \n",
       "3  ['English', 'French', 'Italian', 'German', 'Sp...  ...   \n",
       "4                     ['English', 'Spanish - Spain']  ...   \n",
       "\n",
       "  Average_playtime_2weeks Median_playtime_forever Median_playtime_forever  \\\n",
       "0                       0                       0                       0   \n",
       "1                       0                       0                       0   \n",
       "2                       0                       0                       0   \n",
       "3                       0                       0                       0   \n",
       "4                       0                       0                       0   \n",
       "\n",
       "              Developers             Publishers  \\\n",
       "0           Rusty Moyher           Wild Rooster   \n",
       "1  Perpetual FX Creative  Perpetual FX Creative   \n",
       "2          Campião Games          Campião Games   \n",
       "3      Odd Critter Games      Odd Critter Games   \n",
       "4          Unusual Games          Unusual Games   \n",
       "\n",
       "                                          Categories  \\\n",
       "0  Single-player,Steam Achievements,Full controll...   \n",
       "1  Single-player,Multi-player,Steam Achievements,...   \n",
       "2                                      Single-player   \n",
       "3              Single-player,Full controller support   \n",
       "4                   Single-player,Steam Achievements   \n",
       "\n",
       "                            Genres  \\\n",
       "0                     Action,Indie   \n",
       "1              Casual,Indie,Sports   \n",
       "2  Action,Adventure,Indie,Strategy   \n",
       "3           Adventure,Casual,Indie   \n",
       "4                  Adventure,Indie   \n",
       "\n",
       "                                                Tags  \\\n",
       "0  Indie,Action,Pixel Graphics,2D,Retro,Arcade,Sc...   \n",
       "1                        Indie,Casual,Sports,Bowling   \n",
       "2                                                NaN   \n",
       "3  2D Platformer,Atmospheric,Surreal,Mystery,Puzz...   \n",
       "4  Indie,Adventure,Nudity,Violent,Sexual Content,...   \n",
       "\n",
       "                                         Screenshots  \\\n",
       "0  https://cdn.akamai.steamstatic.com/steam/apps/...   \n",
       "1  https://cdn.akamai.steamstatic.com/steam/apps/...   \n",
       "2  https://cdn.akamai.steamstatic.com/steam/apps/...   \n",
       "3  https://cdn.akamai.steamstatic.com/steam/apps/...   \n",
       "4  https://cdn.akamai.steamstatic.com/steam/apps/...   \n",
       "\n",
       "                                              Movies  \n",
       "0  http://cdn.akamai.steamstatic.com/steam/apps/2...  \n",
       "1  http://cdn.akamai.steamstatic.com/steam/apps/2...  \n",
       "2  http://cdn.akamai.steamstatic.com/steam/apps/2...  \n",
       "3  http://cdn.akamai.steamstatic.com/steam/apps/2...  \n",
       "4  http://cdn.akamai.steamstatic.com/steam/apps/2...  \n",
       "\n",
       "[5 rows x 39 columns]"
      ]
     },
     "execution_count": 16,
     "metadata": {},
     "output_type": "execute_result"
    }
   ],
   "source": [
    "df.head()"
   ]
  },
  {
   "cell_type": "markdown",
   "metadata": {
    "id": "bQfg4JCxf6z3"
   },
   "source": [
    "## Put all the needed words are in the column called Tags"
   ]
  },
  {
   "cell_type": "code",
   "execution_count": 17,
   "metadata": {
    "id": "kOBH9V1ezAIA"
   },
   "outputs": [],
   "source": [
    "df['Categories'] = df['Categories'].str.replace(\" \", \"\")"
   ]
  },
  {
   "cell_type": "code",
   "execution_count": 18,
   "metadata": {
    "id": "heilSCcF21GF"
   },
   "outputs": [],
   "source": [
    "df['Categories'] = df['Categories'].str.replace(\",\", \" \")"
   ]
  },
  {
   "cell_type": "code",
   "execution_count": 19,
   "metadata": {
    "id": "FimDuO3z2Fj3"
   },
   "outputs": [],
   "source": [
    "df['Tags'] = df['Tags'].str.replace(\" \", \"\")"
   ]
  },
  {
   "cell_type": "code",
   "execution_count": 20,
   "metadata": {
    "id": "mVggh2py2sS5"
   },
   "outputs": [],
   "source": [
    "df['Tags']=df['Tags'].str.replace(\",\", \" \")"
   ]
  },
  {
   "cell_type": "code",
   "execution_count": 21,
   "metadata": {
    "id": "mnTa14Hu2JUZ"
   },
   "outputs": [],
   "source": [
    "df['Genres'] = df['Genres'].str.replace(\" \", \"\")"
   ]
  },
  {
   "cell_type": "code",
   "execution_count": 22,
   "metadata": {
    "id": "hIG21VHn2fxj"
   },
   "outputs": [],
   "source": [
    "df['Genres'] = df['Genres'].str.replace(\",\", \" \")"
   ]
  },
  {
   "cell_type": "code",
   "execution_count": 23,
   "metadata": {
    "id": "O6dSKn2L3czL"
   },
   "outputs": [],
   "source": [
    "df['Tags']=df['Overview']+df['Categories']+df['Genres']+df['Tags']"
   ]
  },
  {
   "cell_type": "code",
   "execution_count": 24,
   "metadata": {
    "colab": {
     "base_uri": "https://localhost:8080/",
     "height": 140
    },
    "id": "mMcNXquv5NC0",
    "outputId": "3b86de13-365c-4b99-efdd-adfb5f349d6f"
   },
   "outputs": [
    {
     "data": {
      "text/plain": [
       "\"THE LAW!! Looks to be a showdown atop a train. This will be your last fight. Good luck, Train Bandit. WHAT IS THIS GAME? Train Bandit is a simple score attack game. The Law will attack you from both sides. Your weapon is your keyboard. You'll use those keys to kick the living shit out of the law. React quickly by attacking the correct direction. React...or you're dead. THE FEATURES Unlock new bandits Earn Achievements Become Steam's Most Wanted ? Battle elite officers Kick the law's assSingle-player SteamAchievements Fullcontrollersupport SteamLeaderboards RemotePlayonPhone RemotePlayonTablet RemotePlayonTVAction IndieIndie Action PixelGraphics 2D Retro Arcade ScoreAttack Minimalist Comedy Singleplayer Fast-Paced Casual Funny Parody Difficult Gore Violent Western Controller Blood\""
      ]
     },
     "execution_count": 24,
     "metadata": {},
     "output_type": "execute_result"
    }
   ],
   "source": [
    "df['Tags'][0]"
   ]
  },
  {
   "cell_type": "markdown",
   "metadata": {
    "id": "KjEzq3jpi2Ws"
   },
   "source": [
    "Extracted only the year from the release date and change it to int type"
   ]
  },
  {
   "cell_type": "markdown",
   "metadata": {
    "id": "Tm_yfdtcA7Ku"
   },
   "source": [
    "## Parsing Date"
   ]
  },
  {
   "cell_type": "code",
   "execution_count": 25,
   "metadata": {
    "id": "C77DGP-0gdES"
   },
   "outputs": [],
   "source": [
    "df['Release_Date'] = df['Release_Date'].str.rsplit(',').str[-1] "
   ]
  },
  {
   "cell_type": "code",
   "execution_count": 26,
   "metadata": {
    "id": "WjONBewGgh7W"
   },
   "outputs": [],
   "source": [
    "df['Release_Date'] = df['Release_Date'].str.replace(\" \", \"\")"
   ]
  },
  {
   "cell_type": "code",
   "execution_count": 27,
   "metadata": {
    "id": "JkAEdnRbhrrG"
   },
   "outputs": [],
   "source": [
    "df= df[df['Release_Date'].str.len() <=4]"
   ]
  },
  {
   "cell_type": "code",
   "execution_count": 28,
   "metadata": {
    "colab": {
     "base_uri": "https://localhost:8080/"
    },
    "id": "dJJxrGR1g0iz",
    "outputId": "fe0cef0c-afd1-4c81-c938-d5b056da96ce"
   },
   "outputs": [],
   "source": [
    "df['Release_Date'] = df['Release_Date'].astype('int')"
   ]
  },
  {
   "cell_type": "markdown",
   "metadata": {
    "id": "ykQijdI9jxqt"
   },
   "source": [
    "Below is your needed dataframe, feel free to add any columns that you feel will be useful.\n",
    "-All the columns are integers or floats excpet the \"Tags\" of course.\n",
    "- You can split and merge the column as you wish to build your recommendation system"
   ]
  },
  {
   "cell_type": "code",
   "execution_count": 29,
   "metadata": {
    "id": "_XOI9SsdgBOb"
   },
   "outputs": [],
   "source": [
    "cols={'Price','User_Score','Positive','Negative','Score_Rank','Achievements',\n",
    "      'Recommendations','Tags','Release_Date','Name'}"
   ]
  },
  {
   "cell_type": "code",
   "execution_count": 30,
   "metadata": {
    "colab": {
     "base_uri": "https://localhost:8080/"
    },
    "id": "O5ICspF6xz5_",
    "outputId": "fb98b2f6-83c7-4073-cd00-125cc73cfbfa"
   },
   "outputs": [
    {
     "name": "stderr",
     "output_type": "stream",
     "text": [
      "C:\\Users\\edoar\\AppData\\Local\\Temp\\ipykernel_5496\\3217044890.py:1: FutureWarning: Passing a set as an indexer is deprecated and will raise in a future version. Use a list instead.\n",
      "  data=df[cols]\n"
     ]
    }
   ],
   "source": [
    "data=df[cols]"
   ]
  },
  {
   "cell_type": "code",
   "execution_count": 31,
   "metadata": {
    "id": "uRJuXnMrEFEg"
   },
   "outputs": [],
   "source": [
    "data = data.reindex(columns=['Price','User_Score','Positive','Negative','Achievements',\n",
    "      'Recommendations','Tags','Release_Date','Name'])"
   ]
  },
  {
   "cell_type": "code",
   "execution_count": 32,
   "metadata": {
    "colab": {
     "base_uri": "https://localhost:8080/"
    },
    "id": "r-wnEMX1Aj0r",
    "outputId": "a465acbf-498b-4e66-83e2-3abbfa5b91a8"
   },
   "outputs": [
    {
     "data": {
      "text/plain": [
       "(19967, 9)"
      ]
     },
     "execution_count": 32,
     "metadata": {},
     "output_type": "execute_result"
    }
   ],
   "source": [
    "data.shape"
   ]
  },
  {
   "cell_type": "code",
   "execution_count": 33,
   "metadata": {
    "colab": {
     "base_uri": "https://localhost:8080/",
     "height": 354
    },
    "id": "mXBLTj3xj_gC",
    "outputId": "25d7edbd-768c-4412-97b6-31c0117e3311"
   },
   "outputs": [
    {
     "data": {
      "text/html": [
       "<div>\n",
       "<style scoped>\n",
       "    .dataframe tbody tr th:only-of-type {\n",
       "        vertical-align: middle;\n",
       "    }\n",
       "\n",
       "    .dataframe tbody tr th {\n",
       "        vertical-align: top;\n",
       "    }\n",
       "\n",
       "    .dataframe thead th {\n",
       "        text-align: right;\n",
       "    }\n",
       "</style>\n",
       "<table border=\"1\" class=\"dataframe\">\n",
       "  <thead>\n",
       "    <tr style=\"text-align: right;\">\n",
       "      <th></th>\n",
       "      <th>Price</th>\n",
       "      <th>User_Score</th>\n",
       "      <th>Positive</th>\n",
       "      <th>Negative</th>\n",
       "      <th>Achievements</th>\n",
       "      <th>Recommendations</th>\n",
       "      <th>Tags</th>\n",
       "      <th>Release_Date</th>\n",
       "      <th>Name</th>\n",
       "    </tr>\n",
       "  </thead>\n",
       "  <tbody>\n",
       "    <tr>\n",
       "      <th>0</th>\n",
       "      <td>0.99</td>\n",
       "      <td>0</td>\n",
       "      <td>53</td>\n",
       "      <td>5</td>\n",
       "      <td>12</td>\n",
       "      <td>0</td>\n",
       "      <td>THE LAW!! Looks to be a showdown atop a train....</td>\n",
       "      <td>2017</td>\n",
       "      <td>Train Bandit</td>\n",
       "    </tr>\n",
       "    <tr>\n",
       "      <th>1</th>\n",
       "      <td>19.99</td>\n",
       "      <td>0</td>\n",
       "      <td>6</td>\n",
       "      <td>11</td>\n",
       "      <td>30</td>\n",
       "      <td>0</td>\n",
       "      <td>Galactic Bowling is an exaggerated and stylize...</td>\n",
       "      <td>2008</td>\n",
       "      <td>Galactic Bowling</td>\n",
       "    </tr>\n",
       "    <tr>\n",
       "      <th>2</th>\n",
       "      <td>4.99</td>\n",
       "      <td>0</td>\n",
       "      <td>0</td>\n",
       "      <td>0</td>\n",
       "      <td>0</td>\n",
       "      <td>0</td>\n",
       "      <td>NaN</td>\n",
       "      <td>2021</td>\n",
       "      <td>Jolt Project</td>\n",
       "    </tr>\n",
       "    <tr>\n",
       "      <th>3</th>\n",
       "      <td>5.99</td>\n",
       "      <td>0</td>\n",
       "      <td>3</td>\n",
       "      <td>0</td>\n",
       "      <td>0</td>\n",
       "      <td>0</td>\n",
       "      <td>HENOSIS™ is a mysterious 2D Platform Puzzler w...</td>\n",
       "      <td>2020</td>\n",
       "      <td>Henosis™</td>\n",
       "    </tr>\n",
       "    <tr>\n",
       "      <th>4</th>\n",
       "      <td>0.0</td>\n",
       "      <td>0</td>\n",
       "      <td>50</td>\n",
       "      <td>8</td>\n",
       "      <td>17</td>\n",
       "      <td>0</td>\n",
       "      <td>ABOUT THE GAME Play as a hacker who has arrang...</td>\n",
       "      <td>2020</td>\n",
       "      <td>Two Weeks in Painland</td>\n",
       "    </tr>\n",
       "  </tbody>\n",
       "</table>\n",
       "</div>"
      ],
      "text/plain": [
       "   Price User_Score Positive Negative Achievements Recommendations  \\\n",
       "0   0.99          0       53        5           12               0   \n",
       "1  19.99          0        6       11           30               0   \n",
       "2   4.99          0        0        0            0               0   \n",
       "3   5.99          0        3        0            0               0   \n",
       "4    0.0          0       50        8           17               0   \n",
       "\n",
       "                                                Tags  Release_Date  \\\n",
       "0  THE LAW!! Looks to be a showdown atop a train....          2017   \n",
       "1  Galactic Bowling is an exaggerated and stylize...          2008   \n",
       "2                                                NaN          2021   \n",
       "3  HENOSIS™ is a mysterious 2D Platform Puzzler w...          2020   \n",
       "4  ABOUT THE GAME Play as a hacker who has arrang...          2020   \n",
       "\n",
       "                    Name  \n",
       "0           Train Bandit  \n",
       "1       Galactic Bowling  \n",
       "2           Jolt Project  \n",
       "3               Henosis™  \n",
       "4  Two Weeks in Painland  "
      ]
     },
     "execution_count": 33,
     "metadata": {},
     "output_type": "execute_result"
    }
   ],
   "source": [
    "data.head()"
   ]
  },
  {
   "cell_type": "markdown",
   "metadata": {
    "id": "0c9EVRmKDeLX"
   },
   "source": [
    "## Transform to int"
   ]
  },
  {
   "cell_type": "code",
   "execution_count": 34,
   "metadata": {
    "colab": {
     "base_uri": "https://localhost:8080/"
    },
    "id": "99hJ3s-6Df5h",
    "outputId": "fc1178ec-3c1d-4656-ece9-c3972c6e2e66"
   },
   "outputs": [],
   "source": [
    "data.iloc[:, :6] = data.iloc[:, :6].astype(int)"
   ]
  },
  {
   "cell_type": "code",
   "execution_count": null,
   "metadata": {
    "id": "dm9Z-m08Gy5V"
   },
   "outputs": [],
   "source": []
  },
  {
   "cell_type": "markdown",
   "metadata": {
    "id": "Yw9UjXf-Dci0"
   },
   "source": [
    "## Scale"
   ]
  },
  {
   "cell_type": "code",
   "execution_count": 35,
   "metadata": {
    "id": "peEb6PWgDZfx"
   },
   "outputs": [],
   "source": [
    "scaler = MinMaxScaler()"
   ]
  },
  {
   "cell_type": "code",
   "execution_count": 36,
   "metadata": {
    "id": "MuOleDzcE50L"
   },
   "outputs": [],
   "source": [
    "data_first_6 = data.iloc[:, :6]\n",
    "data_scaled_first_6 = pd.DataFrame(scaler.fit_transform(data_first_6), columns=data_first_6.columns)\n",
    "data = pd.concat([data_scaled_first_6, data.iloc[:, 6:]], axis=1)"
   ]
  },
  {
   "cell_type": "markdown",
   "metadata": {
    "id": "q557N4o5A3Wb"
   },
   "source": [
    "# Content Based RecSys"
   ]
  },
  {
   "cell_type": "code",
   "execution_count": 37,
   "metadata": {
    "colab": {
     "base_uri": "https://localhost:8080/"
    },
    "id": "ZOtLbULRDicL",
    "outputId": "f3d8b31a-497a-4058-9ee0-18dc873567c2"
   },
   "outputs": [
    {
     "name": "stderr",
     "output_type": "stream",
     "text": [
      "C:\\Users\\edoar\\AppData\\Local\\Temp\\ipykernel_5496\\1840813370.py:3: FutureWarning: The default value of regex will change from True to False in a future version.\n",
      "  data['Tags'] = df['Tags'].str.replace('\\s+', ' ')\n"
     ]
    }
   ],
   "source": [
    "data = data.fillna('')\n",
    "# Remove consecutive spaces resulting from NaN values\n",
    "data['Tags'] = df['Tags'].str.replace('\\s+', ' ')\n"
   ]
  },
  {
   "cell_type": "code",
   "execution_count": 38,
   "metadata": {
    "colab": {
     "base_uri": "https://localhost:8080/"
    },
    "id": "mhWtZvZwEDg2",
    "outputId": "9956e904-b298-4947-95a4-f07771c42ebd"
   },
   "outputs": [
    {
     "name": "stdout",
     "output_type": "stream",
     "text": [
      "2\n"
     ]
    }
   ],
   "source": [
    "contains_nan = data['Tags'].str.contains('NaN')\n",
    "\n",
    "# Count the number of cells containing 'NaN'\n",
    "num_nan = contains_nan.sum()\n",
    "print(num_nan)"
   ]
  },
  {
   "cell_type": "code",
   "execution_count": 39,
   "metadata": {
    "id": "fO2oNYUgxaJ4"
   },
   "outputs": [],
   "source": [
    "from sklearn.feature_extraction.text import CountVectorizer \n",
    "cv=CountVectorizer(max_features=5000,stop_words='english')\n"
   ]
  },
  {
   "cell_type": "code",
   "execution_count": 40,
   "metadata": {
    "id": "QSFee0eXxaGh"
   },
   "outputs": [],
   "source": [
    "vector=cv.fit_transform(data['Tags'].fillna('')).toarray()"
   ]
  },
  {
   "cell_type": "code",
   "execution_count": 41,
   "metadata": {
    "id": "d1HY7YbfFANt"
   },
   "outputs": [],
   "source": [
    "similarity=cosine_similarity(vector)"
   ]
  },
  {
   "cell_type": "code",
   "execution_count": 42,
   "metadata": {
    "id": "Qj8nSCZLxaEe"
   },
   "outputs": [],
   "source": [
    "game_list=sorted(list(enumerate(similarity[0])),reverse=True, key=lambda x:x[1])[1:11]"
   ]
  },
  {
   "cell_type": "code",
   "execution_count": 43,
   "metadata": {
    "colab": {
     "base_uri": "https://localhost:8080/"
    },
    "id": "vCIxsoSwxaAW",
    "outputId": "c2ba65cc-91d4-43c5-8567-3a02e9000f1f"
   },
   "outputs": [
    {
     "name": "stdout",
     "output_type": "stream",
     "text": [
      "[(13166, 0.2988330219628693), (7826, 0.29688376619217477), (7774, 0.2842676218074806), (7930, 0.2805979290422808), (101, 0.2770467068479356), (8814, 0.27595544297684965), (13369, 0.2753211747598376), (11942, 0.27411520674292766), (2361, 0.27091418459143857), (4408, 0.26772644895189607)]\n"
     ]
    }
   ],
   "source": [
    "print(game_list)"
   ]
  },
  {
   "cell_type": "markdown",
   "metadata": {
    "id": "BpZ9guH8c4ED"
   },
   "source": [
    "## Put list into dataframe"
   ]
  },
  {
   "cell_type": "code",
   "execution_count": 44,
   "metadata": {
    "id": "dzMSJJx0aa5r"
   },
   "outputs": [],
   "source": [
    "game_ids=[]"
   ]
  },
  {
   "cell_type": "code",
   "execution_count": 45,
   "metadata": {
    "id": "c7ry6KN-c_rs"
   },
   "outputs": [],
   "source": [
    "def Get_IDs(game_ids,hlist): \n",
    "  for i in hlist:\n",
    "   game_ids.append(i[0])"
   ]
  },
  {
   "cell_type": "code",
   "execution_count": 46,
   "metadata": {
    "id": "JoWED9cmgpcF"
   },
   "outputs": [],
   "source": [
    "Get_IDs(game_ids,game_list)"
   ]
  },
  {
   "cell_type": "code",
   "execution_count": 47,
   "metadata": {
    "colab": {
     "base_uri": "https://localhost:8080/"
    },
    "id": "BYPTTb4qglqc",
    "outputId": "6f8ec0a3-ac6f-481f-a366-689e3e089602"
   },
   "outputs": [
    {
     "data": {
      "text/plain": [
       "[13166, 7826, 7774, 7930, 101, 8814, 13369, 11942, 2361, 4408]"
      ]
     },
     "execution_count": 47,
     "metadata": {},
     "output_type": "execute_result"
    }
   ],
   "source": [
    "game_ids"
   ]
  },
  {
   "cell_type": "code",
   "execution_count": 48,
   "metadata": {
    "id": "NybkuYzmiYNu"
   },
   "outputs": [],
   "source": [
    "list_of_games=pd.DataFrame(index=range(10), columns=range(9))"
   ]
  },
  {
   "cell_type": "code",
   "execution_count": 49,
   "metadata": {
    "id": "GpkCGl4MjBi2"
   },
   "outputs": [],
   "source": [
    "index=-1\n",
    "for i in game_ids:\n",
    "  index=index+1\n",
    "  list_of_games.iloc[index]=data.iloc[i]"
   ]
  },
  {
   "cell_type": "code",
   "execution_count": 50,
   "metadata": {
    "id": "_eOPpvlakVut"
   },
   "outputs": [],
   "source": [
    "list_of_games = list_of_games.rename(columns={0:'Price', 1: 'User_Score',\n",
    "                                              2:'Positive',\n",
    "                                              3:'Negative',\n",
    "                                              4:'Achievements',\n",
    "                                              5:'Recommendations',\n",
    "                                              6:'Tags',\n",
    "                                              7:'Release_Date',\n",
    "                                              8:'Name'})"
   ]
  },
  {
   "cell_type": "markdown",
   "metadata": {
    "id": "FrUsPSGpIFbx"
   },
   "source": [
    "##Ordering"
   ]
  },
  {
   "cell_type": "code",
   "execution_count": 51,
   "metadata": {
    "id": "O8RlR5qJIOXe"
   },
   "outputs": [],
   "source": [
    "list_of_games['XFactor']=list_of_games['Positive']+list_of_games['User_Score']+list_of_games['Recommendations']"
   ]
  },
  {
   "cell_type": "code",
   "execution_count": 52,
   "metadata": {
    "id": "CRyh03iEkJnU"
   },
   "outputs": [],
   "source": [
    "price_ordered=list_of_games.sort_values(by=['Price'],ascending=False)"
   ]
  },
  {
   "cell_type": "code",
   "execution_count": 53,
   "metadata": {
    "id": "Du-f97-xBb7i"
   },
   "outputs": [],
   "source": [
    "Release_Ordered=list_of_games.sort_values(by=['Release_Date'],ascending=False)"
   ]
  },
  {
   "cell_type": "code",
   "execution_count": 54,
   "metadata": {
    "id": "1LpiYTdgIE1f"
   },
   "outputs": [],
   "source": [
    "XFactor_Ordered=list_of_games.sort_values(by=['XFactor'],ascending=False)"
   ]
  },
  {
   "cell_type": "code",
   "execution_count": 55,
   "metadata": {},
   "outputs": [
    {
     "data": {
      "text/html": [
       "<div>\n",
       "<style scoped>\n",
       "    .dataframe tbody tr th:only-of-type {\n",
       "        vertical-align: middle;\n",
       "    }\n",
       "\n",
       "    .dataframe tbody tr th {\n",
       "        vertical-align: top;\n",
       "    }\n",
       "\n",
       "    .dataframe thead th {\n",
       "        text-align: right;\n",
       "    }\n",
       "</style>\n",
       "<table border=\"1\" class=\"dataframe\">\n",
       "  <thead>\n",
       "    <tr style=\"text-align: right;\">\n",
       "      <th></th>\n",
       "      <th>Price</th>\n",
       "      <th>User_Score</th>\n",
       "      <th>Positive</th>\n",
       "      <th>Negative</th>\n",
       "      <th>Achievements</th>\n",
       "      <th>Recommendations</th>\n",
       "      <th>Tags</th>\n",
       "      <th>Release_Date</th>\n",
       "      <th>Name</th>\n",
       "      <th>XFactor</th>\n",
       "    </tr>\n",
       "  </thead>\n",
       "  <tbody>\n",
       "    <tr>\n",
       "      <th>2</th>\n",
       "      <td>0.096386</td>\n",
       "      <td>0.0</td>\n",
       "      <td>0.0</td>\n",
       "      <td>0.0</td>\n",
       "      <td>0.0</td>\n",
       "      <td>0.0</td>\n",
       "      <td>A simple fighting game with one attack. NAIR i...</td>\n",
       "      <td>2021.0</td>\n",
       "      <td>NAIR</td>\n",
       "      <td>0.0</td>\n",
       "    </tr>\n",
       "    <tr>\n",
       "      <th>8</th>\n",
       "      <td>0.136546</td>\n",
       "      <td>0.0</td>\n",
       "      <td>0.000004</td>\n",
       "      <td>0.000001</td>\n",
       "      <td>0.0</td>\n",
       "      <td>0.0</td>\n",
       "      <td>Hello, this is a simple retro car drifting gam...</td>\n",
       "      <td>2020.0</td>\n",
       "      <td>Retro Drift</td>\n",
       "      <td>0.000004</td>\n",
       "    </tr>\n",
       "    <tr>\n",
       "      <th>9</th>\n",
       "      <td>0.040161</td>\n",
       "      <td>0.0</td>\n",
       "      <td>0.0</td>\n",
       "      <td>0.000001</td>\n",
       "      <td>0.0</td>\n",
       "      <td>0.0</td>\n",
       "      <td>Drift between the states, collect bits, beat r...</td>\n",
       "      <td>2020.0</td>\n",
       "      <td>Interstate Drifter 1999</td>\n",
       "      <td>0.0</td>\n",
       "    </tr>\n",
       "    <tr>\n",
       "      <th>5</th>\n",
       "      <td>0.02008</td>\n",
       "      <td>0.0</td>\n",
       "      <td>0.000014</td>\n",
       "      <td>0.000009</td>\n",
       "      <td>0.007</td>\n",
       "      <td>0.0</td>\n",
       "      <td>No jumping. Only falling. Serious Scramblers i...</td>\n",
       "      <td>2019.0</td>\n",
       "      <td>Serious Scramblers</td>\n",
       "      <td>0.000014</td>\n",
       "    </tr>\n",
       "    <tr>\n",
       "      <th>4</th>\n",
       "      <td>0.056225</td>\n",
       "      <td>0.0</td>\n",
       "      <td>0.000195</td>\n",
       "      <td>0.000031</td>\n",
       "      <td>0.0</td>\n",
       "      <td>0.000141</td>\n",
       "      <td>Bighead Runner is a casual endless runner, avo...</td>\n",
       "      <td>2018.0</td>\n",
       "      <td>Bighead Runner</td>\n",
       "      <td>0.000336</td>\n",
       "    </tr>\n",
       "    <tr>\n",
       "      <th>6</th>\n",
       "      <td>0.0</td>\n",
       "      <td>0.0</td>\n",
       "      <td>0.0</td>\n",
       "      <td>0.0</td>\n",
       "      <td>0.0</td>\n",
       "      <td>0.0</td>\n",
       "      <td>SUPER FLAIL is a fast-paced arcade score attac...</td>\n",
       "      <td>2018.0</td>\n",
       "      <td>SUPER FLAIL</td>\n",
       "      <td>0.0</td>\n",
       "    </tr>\n",
       "    <tr>\n",
       "      <th>1</th>\n",
       "      <td>0.0</td>\n",
       "      <td>0.0</td>\n",
       "      <td>0.0</td>\n",
       "      <td>0.0</td>\n",
       "      <td>0.0</td>\n",
       "      <td>0.0</td>\n",
       "      <td>This is an 'XL' version of my unreleased mobil...</td>\n",
       "      <td>2017.0</td>\n",
       "      <td>Diamo XL</td>\n",
       "      <td>0.0</td>\n",
       "    </tr>\n",
       "    <tr>\n",
       "      <th>0</th>\n",
       "      <td>0.008032</td>\n",
       "      <td>0.0</td>\n",
       "      <td>0.000088</td>\n",
       "      <td>0.000104</td>\n",
       "      <td>0.0</td>\n",
       "      <td>0.0</td>\n",
       "      <td>Calling all pilots: Earth is under alien attac...</td>\n",
       "      <td>2016.0</td>\n",
       "      <td>Switch 'N' Shoot</td>\n",
       "      <td>0.000088</td>\n",
       "    </tr>\n",
       "    <tr>\n",
       "      <th>7</th>\n",
       "      <td>0.028112</td>\n",
       "      <td>0.0</td>\n",
       "      <td>0.000005</td>\n",
       "      <td>0.00003</td>\n",
       "      <td>0.0038</td>\n",
       "      <td>0.0</td>\n",
       "      <td>Donuts 'N' Justice is a fast-paced 2d horizont...</td>\n",
       "      <td>2016.0</td>\n",
       "      <td>Donuts'n'Justice</td>\n",
       "      <td>0.000005</td>\n",
       "    </tr>\n",
       "    <tr>\n",
       "      <th>3</th>\n",
       "      <td>0.056225</td>\n",
       "      <td>0.0</td>\n",
       "      <td>0.000487</td>\n",
       "      <td>0.000077</td>\n",
       "      <td>0.0134</td>\n",
       "      <td>0.000449</td>\n",
       "      <td>Vector Assault is a fast paced twin stick shoo...</td>\n",
       "      <td>2015.0</td>\n",
       "      <td>Vector Assault</td>\n",
       "      <td>0.000937</td>\n",
       "    </tr>\n",
       "  </tbody>\n",
       "</table>\n",
       "</div>"
      ],
      "text/plain": [
       "      Price User_Score  Positive  Negative Achievements Recommendations  \\\n",
       "2  0.096386        0.0       0.0       0.0          0.0             0.0   \n",
       "8  0.136546        0.0  0.000004  0.000001          0.0             0.0   \n",
       "9  0.040161        0.0       0.0  0.000001          0.0             0.0   \n",
       "5   0.02008        0.0  0.000014  0.000009        0.007             0.0   \n",
       "4  0.056225        0.0  0.000195  0.000031          0.0        0.000141   \n",
       "6       0.0        0.0       0.0       0.0          0.0             0.0   \n",
       "1       0.0        0.0       0.0       0.0          0.0             0.0   \n",
       "0  0.008032        0.0  0.000088  0.000104          0.0             0.0   \n",
       "7  0.028112        0.0  0.000005   0.00003       0.0038             0.0   \n",
       "3  0.056225        0.0  0.000487  0.000077       0.0134        0.000449   \n",
       "\n",
       "                                                Tags Release_Date  \\\n",
       "2  A simple fighting game with one attack. NAIR i...       2021.0   \n",
       "8  Hello, this is a simple retro car drifting gam...       2020.0   \n",
       "9  Drift between the states, collect bits, beat r...       2020.0   \n",
       "5  No jumping. Only falling. Serious Scramblers i...       2019.0   \n",
       "4  Bighead Runner is a casual endless runner, avo...       2018.0   \n",
       "6  SUPER FLAIL is a fast-paced arcade score attac...       2018.0   \n",
       "1  This is an 'XL' version of my unreleased mobil...       2017.0   \n",
       "0  Calling all pilots: Earth is under alien attac...       2016.0   \n",
       "7  Donuts 'N' Justice is a fast-paced 2d horizont...       2016.0   \n",
       "3  Vector Assault is a fast paced twin stick shoo...       2015.0   \n",
       "\n",
       "                      Name   XFactor  \n",
       "2                     NAIR       0.0  \n",
       "8              Retro Drift  0.000004  \n",
       "9  Interstate Drifter 1999       0.0  \n",
       "5       Serious Scramblers  0.000014  \n",
       "4           Bighead Runner  0.000336  \n",
       "6              SUPER FLAIL       0.0  \n",
       "1                 Diamo XL       0.0  \n",
       "0         Switch 'N' Shoot  0.000088  \n",
       "7         Donuts'n'Justice  0.000005  \n",
       "3           Vector Assault  0.000937  "
      ]
     },
     "execution_count": 55,
     "metadata": {},
     "output_type": "execute_result"
    }
   ],
   "source": [
    "Release_Ordered.head(10)"
   ]
  },
  {
   "cell_type": "code",
   "execution_count": 56,
   "metadata": {},
   "outputs": [
    {
     "data": {
      "text/html": [
       "<div>\n",
       "<style scoped>\n",
       "    .dataframe tbody tr th:only-of-type {\n",
       "        vertical-align: middle;\n",
       "    }\n",
       "\n",
       "    .dataframe tbody tr th {\n",
       "        vertical-align: top;\n",
       "    }\n",
       "\n",
       "    .dataframe thead th {\n",
       "        text-align: right;\n",
       "    }\n",
       "</style>\n",
       "<table border=\"1\" class=\"dataframe\">\n",
       "  <thead>\n",
       "    <tr style=\"text-align: right;\">\n",
       "      <th></th>\n",
       "      <th>Price</th>\n",
       "      <th>User_Score</th>\n",
       "      <th>Positive</th>\n",
       "      <th>Negative</th>\n",
       "      <th>Achievements</th>\n",
       "      <th>Recommendations</th>\n",
       "      <th>Tags</th>\n",
       "      <th>Release_Date</th>\n",
       "      <th>Name</th>\n",
       "      <th>XFactor</th>\n",
       "    </tr>\n",
       "  </thead>\n",
       "  <tbody>\n",
       "    <tr>\n",
       "      <th>3</th>\n",
       "      <td>0.056225</td>\n",
       "      <td>0.0</td>\n",
       "      <td>0.000487</td>\n",
       "      <td>0.000077</td>\n",
       "      <td>0.0134</td>\n",
       "      <td>0.000449</td>\n",
       "      <td>Vector Assault is a fast paced twin stick shoo...</td>\n",
       "      <td>2015.0</td>\n",
       "      <td>Vector Assault</td>\n",
       "      <td>0.000937</td>\n",
       "    </tr>\n",
       "    <tr>\n",
       "      <th>4</th>\n",
       "      <td>0.056225</td>\n",
       "      <td>0.0</td>\n",
       "      <td>0.000195</td>\n",
       "      <td>0.000031</td>\n",
       "      <td>0.0</td>\n",
       "      <td>0.000141</td>\n",
       "      <td>Bighead Runner is a casual endless runner, avo...</td>\n",
       "      <td>2018.0</td>\n",
       "      <td>Bighead Runner</td>\n",
       "      <td>0.000336</td>\n",
       "    </tr>\n",
       "    <tr>\n",
       "      <th>0</th>\n",
       "      <td>0.008032</td>\n",
       "      <td>0.0</td>\n",
       "      <td>0.000088</td>\n",
       "      <td>0.000104</td>\n",
       "      <td>0.0</td>\n",
       "      <td>0.0</td>\n",
       "      <td>Calling all pilots: Earth is under alien attac...</td>\n",
       "      <td>2016.0</td>\n",
       "      <td>Switch 'N' Shoot</td>\n",
       "      <td>0.000088</td>\n",
       "    </tr>\n",
       "    <tr>\n",
       "      <th>5</th>\n",
       "      <td>0.02008</td>\n",
       "      <td>0.0</td>\n",
       "      <td>0.000014</td>\n",
       "      <td>0.000009</td>\n",
       "      <td>0.007</td>\n",
       "      <td>0.0</td>\n",
       "      <td>No jumping. Only falling. Serious Scramblers i...</td>\n",
       "      <td>2019.0</td>\n",
       "      <td>Serious Scramblers</td>\n",
       "      <td>0.000014</td>\n",
       "    </tr>\n",
       "    <tr>\n",
       "      <th>7</th>\n",
       "      <td>0.028112</td>\n",
       "      <td>0.0</td>\n",
       "      <td>0.000005</td>\n",
       "      <td>0.00003</td>\n",
       "      <td>0.0038</td>\n",
       "      <td>0.0</td>\n",
       "      <td>Donuts 'N' Justice is a fast-paced 2d horizont...</td>\n",
       "      <td>2016.0</td>\n",
       "      <td>Donuts'n'Justice</td>\n",
       "      <td>0.000005</td>\n",
       "    </tr>\n",
       "    <tr>\n",
       "      <th>8</th>\n",
       "      <td>0.136546</td>\n",
       "      <td>0.0</td>\n",
       "      <td>0.000004</td>\n",
       "      <td>0.000001</td>\n",
       "      <td>0.0</td>\n",
       "      <td>0.0</td>\n",
       "      <td>Hello, this is a simple retro car drifting gam...</td>\n",
       "      <td>2020.0</td>\n",
       "      <td>Retro Drift</td>\n",
       "      <td>0.000004</td>\n",
       "    </tr>\n",
       "    <tr>\n",
       "      <th>1</th>\n",
       "      <td>0.0</td>\n",
       "      <td>0.0</td>\n",
       "      <td>0.0</td>\n",
       "      <td>0.0</td>\n",
       "      <td>0.0</td>\n",
       "      <td>0.0</td>\n",
       "      <td>This is an 'XL' version of my unreleased mobil...</td>\n",
       "      <td>2017.0</td>\n",
       "      <td>Diamo XL</td>\n",
       "      <td>0.0</td>\n",
       "    </tr>\n",
       "    <tr>\n",
       "      <th>2</th>\n",
       "      <td>0.096386</td>\n",
       "      <td>0.0</td>\n",
       "      <td>0.0</td>\n",
       "      <td>0.0</td>\n",
       "      <td>0.0</td>\n",
       "      <td>0.0</td>\n",
       "      <td>A simple fighting game with one attack. NAIR i...</td>\n",
       "      <td>2021.0</td>\n",
       "      <td>NAIR</td>\n",
       "      <td>0.0</td>\n",
       "    </tr>\n",
       "    <tr>\n",
       "      <th>6</th>\n",
       "      <td>0.0</td>\n",
       "      <td>0.0</td>\n",
       "      <td>0.0</td>\n",
       "      <td>0.0</td>\n",
       "      <td>0.0</td>\n",
       "      <td>0.0</td>\n",
       "      <td>SUPER FLAIL is a fast-paced arcade score attac...</td>\n",
       "      <td>2018.0</td>\n",
       "      <td>SUPER FLAIL</td>\n",
       "      <td>0.0</td>\n",
       "    </tr>\n",
       "    <tr>\n",
       "      <th>9</th>\n",
       "      <td>0.040161</td>\n",
       "      <td>0.0</td>\n",
       "      <td>0.0</td>\n",
       "      <td>0.000001</td>\n",
       "      <td>0.0</td>\n",
       "      <td>0.0</td>\n",
       "      <td>Drift between the states, collect bits, beat r...</td>\n",
       "      <td>2020.0</td>\n",
       "      <td>Interstate Drifter 1999</td>\n",
       "      <td>0.0</td>\n",
       "    </tr>\n",
       "  </tbody>\n",
       "</table>\n",
       "</div>"
      ],
      "text/plain": [
       "      Price User_Score  Positive  Negative Achievements Recommendations  \\\n",
       "3  0.056225        0.0  0.000487  0.000077       0.0134        0.000449   \n",
       "4  0.056225        0.0  0.000195  0.000031          0.0        0.000141   \n",
       "0  0.008032        0.0  0.000088  0.000104          0.0             0.0   \n",
       "5   0.02008        0.0  0.000014  0.000009        0.007             0.0   \n",
       "7  0.028112        0.0  0.000005   0.00003       0.0038             0.0   \n",
       "8  0.136546        0.0  0.000004  0.000001          0.0             0.0   \n",
       "1       0.0        0.0       0.0       0.0          0.0             0.0   \n",
       "2  0.096386        0.0       0.0       0.0          0.0             0.0   \n",
       "6       0.0        0.0       0.0       0.0          0.0             0.0   \n",
       "9  0.040161        0.0       0.0  0.000001          0.0             0.0   \n",
       "\n",
       "                                                Tags Release_Date  \\\n",
       "3  Vector Assault is a fast paced twin stick shoo...       2015.0   \n",
       "4  Bighead Runner is a casual endless runner, avo...       2018.0   \n",
       "0  Calling all pilots: Earth is under alien attac...       2016.0   \n",
       "5  No jumping. Only falling. Serious Scramblers i...       2019.0   \n",
       "7  Donuts 'N' Justice is a fast-paced 2d horizont...       2016.0   \n",
       "8  Hello, this is a simple retro car drifting gam...       2020.0   \n",
       "1  This is an 'XL' version of my unreleased mobil...       2017.0   \n",
       "2  A simple fighting game with one attack. NAIR i...       2021.0   \n",
       "6  SUPER FLAIL is a fast-paced arcade score attac...       2018.0   \n",
       "9  Drift between the states, collect bits, beat r...       2020.0   \n",
       "\n",
       "                      Name   XFactor  \n",
       "3           Vector Assault  0.000937  \n",
       "4           Bighead Runner  0.000336  \n",
       "0         Switch 'N' Shoot  0.000088  \n",
       "5       Serious Scramblers  0.000014  \n",
       "7         Donuts'n'Justice  0.000005  \n",
       "8              Retro Drift  0.000004  \n",
       "1                 Diamo XL       0.0  \n",
       "2                     NAIR       0.0  \n",
       "6              SUPER FLAIL       0.0  \n",
       "9  Interstate Drifter 1999       0.0  "
      ]
     },
     "execution_count": 56,
     "metadata": {},
     "output_type": "execute_result"
    }
   ],
   "source": [
    "XFactor_Ordered.head(10)"
   ]
  },
  {
   "cell_type": "code",
   "execution_count": 57,
   "metadata": {
    "id": "SXTGf7iwxZ8N"
   },
   "outputs": [],
   "source": [
    "def ListGames(data, name):\n",
    "    finalList = [[],[]]\n",
    "    for i in data[name]:\n",
    "        finalList[0].append(i)\n",
    "    for j in data[\"Name\"]:\n",
    "        finalList[1].append(j)\n",
    "    return finalList"
   ]
  },
  {
   "cell_type": "code",
   "execution_count": 64,
   "metadata": {
    "colab": {
     "base_uri": "https://localhost:8080/"
    },
    "id": "NX5jXteBxZ6T",
    "outputId": "b9b826f7-076d-4dfd-f4a8-0e827357fd75"
   },
   "outputs": [
    {
     "ename": "TypeError",
     "evalue": "ListGames() missing 1 required positional argument: 'name'",
     "output_type": "error",
     "traceback": [
      "\u001b[1;31m---------------------------------------------------------------------------\u001b[0m",
      "\u001b[1;31mTypeError\u001b[0m                                 Traceback (most recent call last)",
      "\u001b[1;32m~\\AppData\\Local\\Temp\\ipykernel_5496\\1971820588.py\u001b[0m in \u001b[0;36m<module>\u001b[1;34m\u001b[0m\n\u001b[0;32m      1\u001b[0m \u001b[1;31m# plt.plot(x_price, y_price)\u001b[0m\u001b[1;33m\u001b[0m\u001b[1;33m\u001b[0m\u001b[0m\n\u001b[1;32m----> 2\u001b[1;33m \u001b[0mgamesAndPrice\u001b[0m \u001b[1;33m=\u001b[0m \u001b[0mListGames\u001b[0m\u001b[1;33m(\u001b[0m\u001b[0mprice_ordered\u001b[0m\u001b[1;33m)\u001b[0m\u001b[1;33m\u001b[0m\u001b[1;33m\u001b[0m\u001b[0m\n\u001b[0m\u001b[0;32m      3\u001b[0m \u001b[0mx_price\u001b[0m \u001b[1;33m=\u001b[0m \u001b[1;33m[\u001b[0m\u001b[1;33m]\u001b[0m\u001b[1;33m\u001b[0m\u001b[1;33m\u001b[0m\u001b[0m\n\u001b[0;32m      4\u001b[0m \u001b[1;32mfor\u001b[0m \u001b[0mi\u001b[0m \u001b[1;32min\u001b[0m \u001b[0mrange\u001b[0m\u001b[1;33m(\u001b[0m\u001b[0mlen\u001b[0m\u001b[1;33m(\u001b[0m\u001b[0mgamesAndPrice\u001b[0m\u001b[1;33m[\u001b[0m\u001b[1;36m0\u001b[0m\u001b[1;33m]\u001b[0m\u001b[1;33m)\u001b[0m\u001b[1;33m)\u001b[0m\u001b[1;33m:\u001b[0m\u001b[1;33m\u001b[0m\u001b[1;33m\u001b[0m\u001b[0m\n\u001b[0;32m      5\u001b[0m     \u001b[0mx_price\u001b[0m\u001b[1;33m.\u001b[0m\u001b[0mappend\u001b[0m\u001b[1;33m(\u001b[0m\u001b[0mi\u001b[0m\u001b[1;33m)\u001b[0m\u001b[1;33m\u001b[0m\u001b[1;33m\u001b[0m\u001b[0m\n",
      "\u001b[1;31mTypeError\u001b[0m: ListGames() missing 1 required positional argument: 'name'"
     ]
    }
   ],
   "source": [
    "# plt.plot(x_price, y_price)\n",
    "gamesAndPrice = ListGames(price_ordered)\n",
    "x_price = []\n",
    "for i in range(len(gamesAndPrice[0])):\n",
    "    x_price.append(i)\n",
    "y_price = gamesAndPrice[0]"
   ]
  },
  {
   "cell_type": "code",
   "execution_count": 59,
   "metadata": {},
   "outputs": [
    {
     "data": {
      "text/plain": [
       "[<matplotlib.lines.Line2D at 0x1a68e07c9a0>]"
      ]
     },
     "execution_count": 59,
     "metadata": {},
     "output_type": "execute_result"
    },
    {
     "data": {
      "image/png": "[encoded data removed]",
      "text/plain": [
       "<Figure size 640x480 with 1 Axes>"
      ]
     },
     "metadata": {},
     "output_type": "display_data"
    }
   ],
   "source": [
    "\n",
    "gamesAndRelease = ListGames(Release_Ordered, \"Release_Date\")\n",
    "x_price = []\n",
    "for i in range(len(gamesAndRelease[0])):\n",
    "    x_price.append(i)\n",
    "y_price = gamesAndRelease[0]\n",
    "plt.plot(x_price, y_price)"
   ]
  },
  {
   "cell_type": "code",
   "execution_count": 60,
   "metadata": {},
   "outputs": [
    {
     "data": {
      "text/plain": [
       "[<matplotlib.lines.Line2D at 0x1a6b5cc3730>]"
      ]
     },
     "execution_count": 60,
     "metadata": {},
     "output_type": "execute_result"
    },
    {
     "data": {
      "image/png": "[encoded data removed]",
      "text/plain": [
       "<Figure size 640x480 with 1 Axes>"
      ]
     },
     "metadata": {},
     "output_type": "display_data"
    }
   ],
   "source": [
    "gamesAndXFactor = ListGames(XFactor_Ordered, \"XFactor\")\n",
    "x_factor = []\n",
    "for i in range(len(gamesAndXFactor[0])):\n",
    "    x_factor.append(i)\n",
    "y_factor = gamesAndXFactor[0]\n",
    "plt.plot(x_factor, y_factor)"
   ]
  },
  {
   "cell_type": "code",
   "execution_count": 61,
   "metadata": {},
   "outputs": [
    {
     "data": {
      "image/png": "[encoded data removed]",
      "text/plain": [
       "<Figure size 640x480 with 1 Axes>"
      ]
     },
     "metadata": {},
     "output_type": "display_data"
    }
   ],
   "source": [
    "# naming the x axis\n",
    "plt.xlabel('x - axis')\n",
    "# naming the y axis\n",
    "plt.ylabel('y - axis')\n",
    "  \n",
    "# giving a title to my graph\n",
    "plt.title('My first graph!')\n",
    "  \n",
    "# function to show the plot\n",
    "plt.show()"
   ]
  },
  {
   "cell_type": "code",
   "execution_count": 62,
   "metadata": {
    "colab": {
     "base_uri": "https://localhost:8080/"
    },
    "id": "BICk_v50BlCB",
    "outputId": "24b014f9-a775-4293-b1ca-85db84990248"
   },
   "outputs": [
    {
     "ename": "TypeError",
     "evalue": "ListGames() missing 1 required positional argument: 'name'",
     "output_type": "error",
     "traceback": [
      "\u001b[1;31m---------------------------------------------------------------------------\u001b[0m",
      "\u001b[1;31mTypeError\u001b[0m                                 Traceback (most recent call last)",
      "\u001b[1;32m~\\AppData\\Local\\Temp\\ipykernel_5496\\4101969351.py\u001b[0m in \u001b[0;36m<module>\u001b[1;34m\u001b[0m\n\u001b[1;32m----> 1\u001b[1;33m \u001b[0mListGames\u001b[0m\u001b[1;33m(\u001b[0m\u001b[0mRelease_Ordered\u001b[0m\u001b[1;33m)\u001b[0m\u001b[1;33m\u001b[0m\u001b[1;33m\u001b[0m\u001b[0m\n\u001b[0m",
      "\u001b[1;31mTypeError\u001b[0m: ListGames() missing 1 required positional argument: 'name'"
     ]
    }
   ],
   "source": [
    "ListGames(Release_Ordered)"
   ]
  },
  {
   "cell_type": "code",
   "execution_count": 63,
   "metadata": {
    "colab": {
     "base_uri": "https://localhost:8080/"
    },
    "id": "nWXX88KHBwq9",
    "outputId": "dc659ffb-4d11-4e22-988c-b7c9a728e75a"
   },
   "outputs": [
    {
     "ename": "TypeError",
     "evalue": "ListGames() missing 1 required positional argument: 'name'",
     "output_type": "error",
     "traceback": [
      "\u001b[1;31m---------------------------------------------------------------------------\u001b[0m",
      "\u001b[1;31mTypeError\u001b[0m                                 Traceback (most recent call last)",
      "\u001b[1;32m~\\AppData\\Local\\Temp\\ipykernel_5496\\2288160067.py\u001b[0m in \u001b[0;36m<module>\u001b[1;34m\u001b[0m\n\u001b[1;32m----> 1\u001b[1;33m \u001b[0mListGames\u001b[0m\u001b[1;33m(\u001b[0m\u001b[0mXFactor_Ordered\u001b[0m\u001b[1;33m)\u001b[0m\u001b[1;33m\u001b[0m\u001b[1;33m\u001b[0m\u001b[0m\n\u001b[0m",
      "\u001b[1;31mTypeError\u001b[0m: ListGames() missing 1 required positional argument: 'name'"
     ]
    }
   ],
   "source": [
    "ListGames(XFactor_Ordered)"
   ]
  },
  {
   "cell_type": "markdown",
   "metadata": {
    "id": "J1a0D2-KIvC6"
   },
   "source": [
    "# User-History Based Recsys"
   ]
  },
  {
   "cell_type": "markdown",
   "metadata": {
    "id": "bTait8bXU8zn"
   },
   "source": [
    "## PCA on data matrix"
   ]
  },
  {
   "cell_type": "code",
   "execution_count": 65,
   "metadata": {
    "id": "4b3wg-eWHDLg"
   },
   "outputs": [],
   "source": [
    "pca = PCA(n_components=None)"
   ]
  },
  {
   "cell_type": "code",
   "execution_count": 66,
   "metadata": {
    "id": "uNXi6O0UHDJq"
   },
   "outputs": [],
   "source": [
    "dfx_pca = pca.fit(vector)"
   ]
  },
  {
   "cell_type": "code",
   "execution_count": 67,
   "metadata": {
    "id": "MZPpk3H8VDbf"
   },
   "outputs": [],
   "source": [
    "r=[]\n",
    "for i in range(len(dfx_pca.explained_variance_ratio_)):\n",
    "  r.append(i+1)"
   ]
  },
  {
   "cell_type": "code",
   "execution_count": 68,
   "metadata": {
    "colab": {
     "base_uri": "https://localhost:8080/",
     "height": 662
    },
    "id": "gmBC_cZwJwPb",
    "outputId": "b4f34187-4d20-4363-a344-be18de8675c2"
   },
   "outputs": [
    {
     "data": {
      "image/png": "[encoded data removed]",
      "text/plain": [
       "<Figure size 1000x600 with 1 Axes>"
      ]
     },
     "metadata": {},
     "output_type": "display_data"
    }
   ],
   "source": [
    "plt.figure(figsize=(10,6))\n",
    "plt.scatter(x=r,\n",
    "            y=dfx_pca.explained_variance_ratio_,\n",
    "           s=200, alpha=0.75,c='orange',edgecolor='k')\n",
    "plt.grid(True)\n",
    "plt.title(\"Explained variance ratio of the \\nfitted principal component vector\\n\",fontsize=25)\n",
    "plt.xlabel(\"Principal components\",fontsize=15)\n",
    "#plt.xticks([i+1 for i in range(len(dfx_pca.explained_variance_ratio_))],fontsize=15)\n",
    "plt.yticks(fontsize=15)\n",
    "plt.ylabel(\"Explained variance ratio\",fontsize=15)\n",
    "plt.show()"
   ]
  },
  {
   "cell_type": "code",
   "execution_count": 69,
   "metadata": {
    "colab": {
     "base_uri": "https://localhost:8080/"
    },
    "id": "NMUi_9koe2nj",
    "outputId": "6105c823-35ea-406a-b8a9-293ed8697554"
   },
   "outputs": [
    {
     "name": "stdout",
     "output_type": "stream",
     "text": [
      "1867\n"
     ]
    }
   ],
   "source": [
    "total=0\n",
    "for i in range(len(dfx_pca.explained_variance_ratio_)):\n",
    "    total=total+dfx_pca.explained_variance_ratio_[i]\n",
    "    if total>0.9:\n",
    "     n=i\n",
    "     print(n)\n",
    "     break"
   ]
  },
  {
   "cell_type": "code",
   "execution_count": 70,
   "metadata": {
    "id": "-ZT3W8wDf4s2"
   },
   "outputs": [],
   "source": [
    "pca = PCA(n_components=n)"
   ]
  },
  {
   "cell_type": "code",
   "execution_count": 71,
   "metadata": {
    "id": "9GpgQGWigHZI"
   },
   "outputs": [],
   "source": [
    "finaldf = pca.fit(vector)"
   ]
  },
  {
   "cell_type": "code",
   "execution_count": 72,
   "metadata": {
    "id": "69cx4QgBTIOW"
   },
   "outputs": [],
   "source": [
    "finaldf=pca.transform(vector)"
   ]
  },
  {
   "cell_type": "code",
   "execution_count": 73,
   "metadata": {
    "id": "QlE253ZkV4V7"
   },
   "outputs": [],
   "source": [
    "finaldf=pd.DataFrame(finaldf)"
   ]
  },
  {
   "cell_type": "code",
   "execution_count": 74,
   "metadata": {
    "colab": {
     "base_uri": "https://localhost:8080/",
     "height": 488
    },
    "id": "lPbjy_k5WAE5",
    "outputId": "a2dbc225-6a7e-473e-9391-779396ea6a4f"
   },
   "outputs": [
    {
     "data": {
      "text/html": [
       "<div>\n",
       "<style scoped>\n",
       "    .dataframe tbody tr th:only-of-type {\n",
       "        vertical-align: middle;\n",
       "    }\n",
       "\n",
       "    .dataframe tbody tr th {\n",
       "        vertical-align: top;\n",
       "    }\n",
       "\n",
       "    .dataframe thead th {\n",
       "        text-align: right;\n",
       "    }\n",
       "</style>\n",
       "<table border=\"1\" class=\"dataframe\">\n",
       "  <thead>\n",
       "    <tr style=\"text-align: right;\">\n",
       "      <th></th>\n",
       "      <th>0</th>\n",
       "      <th>1</th>\n",
       "      <th>2</th>\n",
       "      <th>3</th>\n",
       "      <th>4</th>\n",
       "      <th>5</th>\n",
       "      <th>6</th>\n",
       "      <th>7</th>\n",
       "      <th>8</th>\n",
       "      <th>9</th>\n",
       "      <th>...</th>\n",
       "      <th>1857</th>\n",
       "      <th>1858</th>\n",
       "      <th>1859</th>\n",
       "      <th>1860</th>\n",
       "      <th>1861</th>\n",
       "      <th>1862</th>\n",
       "      <th>1863</th>\n",
       "      <th>1864</th>\n",
       "      <th>1865</th>\n",
       "      <th>1866</th>\n",
       "    </tr>\n",
       "  </thead>\n",
       "  <tbody>\n",
       "    <tr>\n",
       "      <th>0</th>\n",
       "      <td>-0.729502</td>\n",
       "      <td>0.687477</td>\n",
       "      <td>-0.641385</td>\n",
       "      <td>0.032785</td>\n",
       "      <td>0.236546</td>\n",
       "      <td>0.826429</td>\n",
       "      <td>-1.006304</td>\n",
       "      <td>-0.444173</td>\n",
       "      <td>-0.396475</td>\n",
       "      <td>-0.114984</td>\n",
       "      <td>...</td>\n",
       "      <td>0.070572</td>\n",
       "      <td>0.108275</td>\n",
       "      <td>-0.041844</td>\n",
       "      <td>0.050946</td>\n",
       "      <td>0.062812</td>\n",
       "      <td>0.003485</td>\n",
       "      <td>0.080394</td>\n",
       "      <td>-0.152237</td>\n",
       "      <td>0.244314</td>\n",
       "      <td>0.153807</td>\n",
       "    </tr>\n",
       "    <tr>\n",
       "      <th>1</th>\n",
       "      <td>3.857342</td>\n",
       "      <td>-1.164547</td>\n",
       "      <td>-4.204653</td>\n",
       "      <td>-1.304215</td>\n",
       "      <td>-1.401527</td>\n",
       "      <td>0.056480</td>\n",
       "      <td>-0.233718</td>\n",
       "      <td>2.344752</td>\n",
       "      <td>1.066224</td>\n",
       "      <td>0.072569</td>\n",
       "      <td>...</td>\n",
       "      <td>0.006502</td>\n",
       "      <td>-0.133450</td>\n",
       "      <td>0.060365</td>\n",
       "      <td>-0.028397</td>\n",
       "      <td>0.015947</td>\n",
       "      <td>0.027876</td>\n",
       "      <td>-0.160457</td>\n",
       "      <td>0.094107</td>\n",
       "      <td>-0.001705</td>\n",
       "      <td>0.139259</td>\n",
       "    </tr>\n",
       "    <tr>\n",
       "      <th>2</th>\n",
       "      <td>-3.499565</td>\n",
       "      <td>0.541343</td>\n",
       "      <td>-0.541699</td>\n",
       "      <td>0.766620</td>\n",
       "      <td>-0.036341</td>\n",
       "      <td>-0.368553</td>\n",
       "      <td>-0.222674</td>\n",
       "      <td>-0.072639</td>\n",
       "      <td>-0.326582</td>\n",
       "      <td>0.175338</td>\n",
       "      <td>...</td>\n",
       "      <td>0.001639</td>\n",
       "      <td>0.002158</td>\n",
       "      <td>0.002734</td>\n",
       "      <td>0.001034</td>\n",
       "      <td>0.000058</td>\n",
       "      <td>0.001126</td>\n",
       "      <td>0.001862</td>\n",
       "      <td>0.001765</td>\n",
       "      <td>0.003462</td>\n",
       "      <td>-0.001801</td>\n",
       "    </tr>\n",
       "    <tr>\n",
       "      <th>3</th>\n",
       "      <td>-0.772277</td>\n",
       "      <td>-1.427576</td>\n",
       "      <td>0.550445</td>\n",
       "      <td>-1.955713</td>\n",
       "      <td>-0.572065</td>\n",
       "      <td>0.527786</td>\n",
       "      <td>1.089030</td>\n",
       "      <td>1.360639</td>\n",
       "      <td>-1.549569</td>\n",
       "      <td>-2.682784</td>\n",
       "      <td>...</td>\n",
       "      <td>0.010945</td>\n",
       "      <td>-0.060983</td>\n",
       "      <td>-0.086673</td>\n",
       "      <td>0.008425</td>\n",
       "      <td>-0.023616</td>\n",
       "      <td>-0.013796</td>\n",
       "      <td>0.038651</td>\n",
       "      <td>-0.018142</td>\n",
       "      <td>-0.050297</td>\n",
       "      <td>0.035549</td>\n",
       "    </tr>\n",
       "    <tr>\n",
       "      <th>4</th>\n",
       "      <td>-0.415623</td>\n",
       "      <td>1.884035</td>\n",
       "      <td>-0.220164</td>\n",
       "      <td>-0.199249</td>\n",
       "      <td>-0.125936</td>\n",
       "      <td>-0.846926</td>\n",
       "      <td>-0.528246</td>\n",
       "      <td>-0.391655</td>\n",
       "      <td>0.413168</td>\n",
       "      <td>0.148042</td>\n",
       "      <td>...</td>\n",
       "      <td>-0.008220</td>\n",
       "      <td>-0.044801</td>\n",
       "      <td>-0.162155</td>\n",
       "      <td>-0.032557</td>\n",
       "      <td>0.161380</td>\n",
       "      <td>-0.087037</td>\n",
       "      <td>0.101611</td>\n",
       "      <td>-0.188314</td>\n",
       "      <td>0.014262</td>\n",
       "      <td>-0.109838</td>\n",
       "    </tr>\n",
       "    <tr>\n",
       "      <th>...</th>\n",
       "      <td>...</td>\n",
       "      <td>...</td>\n",
       "      <td>...</td>\n",
       "      <td>...</td>\n",
       "      <td>...</td>\n",
       "      <td>...</td>\n",
       "      <td>...</td>\n",
       "      <td>...</td>\n",
       "      <td>...</td>\n",
       "      <td>...</td>\n",
       "      <td>...</td>\n",
       "      <td>...</td>\n",
       "      <td>...</td>\n",
       "      <td>...</td>\n",
       "      <td>...</td>\n",
       "      <td>...</td>\n",
       "      <td>...</td>\n",
       "      <td>...</td>\n",
       "      <td>...</td>\n",
       "      <td>...</td>\n",
       "      <td>...</td>\n",
       "    </tr>\n",
       "    <tr>\n",
       "      <th>19995</th>\n",
       "      <td>3.738281</td>\n",
       "      <td>-0.762746</td>\n",
       "      <td>-4.684094</td>\n",
       "      <td>-0.318962</td>\n",
       "      <td>0.471780</td>\n",
       "      <td>0.268400</td>\n",
       "      <td>-0.339242</td>\n",
       "      <td>5.473336</td>\n",
       "      <td>0.357536</td>\n",
       "      <td>-3.425327</td>\n",
       "      <td>...</td>\n",
       "      <td>-0.207002</td>\n",
       "      <td>-0.372604</td>\n",
       "      <td>-0.061433</td>\n",
       "      <td>0.144554</td>\n",
       "      <td>0.019567</td>\n",
       "      <td>0.324476</td>\n",
       "      <td>0.193864</td>\n",
       "      <td>-0.116632</td>\n",
       "      <td>0.300339</td>\n",
       "      <td>0.020085</td>\n",
       "    </tr>\n",
       "    <tr>\n",
       "      <th>19996</th>\n",
       "      <td>2.267348</td>\n",
       "      <td>-1.473643</td>\n",
       "      <td>0.608813</td>\n",
       "      <td>1.277134</td>\n",
       "      <td>0.544269</td>\n",
       "      <td>3.313697</td>\n",
       "      <td>-1.432982</td>\n",
       "      <td>1.577801</td>\n",
       "      <td>-1.985723</td>\n",
       "      <td>0.152232</td>\n",
       "      <td>...</td>\n",
       "      <td>-0.069368</td>\n",
       "      <td>0.003846</td>\n",
       "      <td>0.076026</td>\n",
       "      <td>-0.022644</td>\n",
       "      <td>0.224254</td>\n",
       "      <td>-0.317034</td>\n",
       "      <td>0.121618</td>\n",
       "      <td>-0.198057</td>\n",
       "      <td>0.182360</td>\n",
       "      <td>0.043904</td>\n",
       "    </tr>\n",
       "    <tr>\n",
       "      <th>19997</th>\n",
       "      <td>-1.390138</td>\n",
       "      <td>-0.144814</td>\n",
       "      <td>0.248404</td>\n",
       "      <td>-0.490436</td>\n",
       "      <td>0.429808</td>\n",
       "      <td>0.122241</td>\n",
       "      <td>-0.238757</td>\n",
       "      <td>-0.512848</td>\n",
       "      <td>0.180542</td>\n",
       "      <td>0.139951</td>\n",
       "      <td>...</td>\n",
       "      <td>-0.045990</td>\n",
       "      <td>0.133062</td>\n",
       "      <td>-0.031960</td>\n",
       "      <td>-0.097255</td>\n",
       "      <td>0.143382</td>\n",
       "      <td>0.120399</td>\n",
       "      <td>-0.205556</td>\n",
       "      <td>-0.049161</td>\n",
       "      <td>0.121109</td>\n",
       "      <td>-0.001311</td>\n",
       "    </tr>\n",
       "    <tr>\n",
       "      <th>19998</th>\n",
       "      <td>2.502503</td>\n",
       "      <td>2.341593</td>\n",
       "      <td>0.699883</td>\n",
       "      <td>-0.758021</td>\n",
       "      <td>1.625738</td>\n",
       "      <td>-1.399597</td>\n",
       "      <td>-2.092486</td>\n",
       "      <td>-0.296091</td>\n",
       "      <td>-1.430272</td>\n",
       "      <td>-0.274912</td>\n",
       "      <td>...</td>\n",
       "      <td>-0.130534</td>\n",
       "      <td>0.027473</td>\n",
       "      <td>0.027531</td>\n",
       "      <td>-0.065102</td>\n",
       "      <td>0.057814</td>\n",
       "      <td>0.003947</td>\n",
       "      <td>0.137557</td>\n",
       "      <td>0.253845</td>\n",
       "      <td>0.025898</td>\n",
       "      <td>0.126584</td>\n",
       "    </tr>\n",
       "    <tr>\n",
       "      <th>19999</th>\n",
       "      <td>7.788500</td>\n",
       "      <td>5.207784</td>\n",
       "      <td>-3.105142</td>\n",
       "      <td>-1.568174</td>\n",
       "      <td>-0.237862</td>\n",
       "      <td>-1.473069</td>\n",
       "      <td>-1.339830</td>\n",
       "      <td>-1.480853</td>\n",
       "      <td>-0.650761</td>\n",
       "      <td>0.206112</td>\n",
       "      <td>...</td>\n",
       "      <td>0.040917</td>\n",
       "      <td>0.000755</td>\n",
       "      <td>-0.289896</td>\n",
       "      <td>0.080776</td>\n",
       "      <td>-0.128834</td>\n",
       "      <td>0.378204</td>\n",
       "      <td>0.081336</td>\n",
       "      <td>0.165902</td>\n",
       "      <td>-0.140163</td>\n",
       "      <td>0.030717</td>\n",
       "    </tr>\n",
       "  </tbody>\n",
       "</table>\n",
       "<p>20000 rows × 1867 columns</p>\n",
       "</div>"
      ],
      "text/plain": [
       "           0         1         2         3         4         5         6     \\\n",
       "0     -0.729502  0.687477 -0.641385  0.032785  0.236546  0.826429 -1.006304   \n",
       "1      3.857342 -1.164547 -4.204653 -1.304215 -1.401527  0.056480 -0.233718   \n",
       "2     -3.499565  0.541343 -0.541699  0.766620 -0.036341 -0.368553 -0.222674   \n",
       "3     -0.772277 -1.427576  0.550445 -1.955713 -0.572065  0.527786  1.089030   \n",
       "4     -0.415623  1.884035 -0.220164 -0.199249 -0.125936 -0.846926 -0.528246   \n",
       "...         ...       ...       ...       ...       ...       ...       ...   \n",
       "19995  3.738281 -0.762746 -4.684094 -0.318962  0.471780  0.268400 -0.339242   \n",
       "19996  2.267348 -1.473643  0.608813  1.277134  0.544269  3.313697 -1.432982   \n",
       "19997 -1.390138 -0.144814  0.248404 -0.490436  0.429808  0.122241 -0.238757   \n",
       "19998  2.502503  2.341593  0.699883 -0.758021  1.625738 -1.399597 -2.092486   \n",
       "19999  7.788500  5.207784 -3.105142 -1.568174 -0.237862 -1.473069 -1.339830   \n",
       "\n",
       "           7         8         9     ...      1857      1858      1859  \\\n",
       "0     -0.444173 -0.396475 -0.114984  ...  0.070572  0.108275 -0.041844   \n",
       "1      2.344752  1.066224  0.072569  ...  0.006502 -0.133450  0.060365   \n",
       "2     -0.072639 -0.326582  0.175338  ...  0.001639  0.002158  0.002734   \n",
       "3      1.360639 -1.549569 -2.682784  ...  0.010945 -0.060983 -0.086673   \n",
       "4     -0.391655  0.413168  0.148042  ... -0.008220 -0.044801 -0.162155   \n",
       "...         ...       ...       ...  ...       ...       ...       ...   \n",
       "19995  5.473336  0.357536 -3.425327  ... -0.207002 -0.372604 -0.061433   \n",
       "19996  1.577801 -1.985723  0.152232  ... -0.069368  0.003846  0.076026   \n",
       "19997 -0.512848  0.180542  0.139951  ... -0.045990  0.133062 -0.031960   \n",
       "19998 -0.296091 -1.430272 -0.274912  ... -0.130534  0.027473  0.027531   \n",
       "19999 -1.480853 -0.650761  0.206112  ...  0.040917  0.000755 -0.289896   \n",
       "\n",
       "           1860      1861      1862      1863      1864      1865      1866  \n",
       "0      0.050946  0.062812  0.003485  0.080394 -0.152237  0.244314  0.153807  \n",
       "1     -0.028397  0.015947  0.027876 -0.160457  0.094107 -0.001705  0.139259  \n",
       "2      0.001034  0.000058  0.001126  0.001862  0.001765  0.003462 -0.001801  \n",
       "3      0.008425 -0.023616 -0.013796  0.038651 -0.018142 -0.050297  0.035549  \n",
       "4     -0.032557  0.161380 -0.087037  0.101611 -0.188314  0.014262 -0.109838  \n",
       "...         ...       ...       ...       ...       ...       ...       ...  \n",
       "19995  0.144554  0.019567  0.324476  0.193864 -0.116632  0.300339  0.020085  \n",
       "19996 -0.022644  0.224254 -0.317034  0.121618 -0.198057  0.182360  0.043904  \n",
       "19997 -0.097255  0.143382  0.120399 -0.205556 -0.049161  0.121109 -0.001311  \n",
       "19998 -0.065102  0.057814  0.003947  0.137557  0.253845  0.025898  0.126584  \n",
       "19999  0.080776 -0.128834  0.378204  0.081336  0.165902 -0.140163  0.030717  \n",
       "\n",
       "[20000 rows x 1867 columns]"
      ]
     },
     "execution_count": 74,
     "metadata": {},
     "output_type": "execute_result"
    }
   ],
   "source": [
    "finaldf"
   ]
  },
  {
   "cell_type": "markdown",
   "metadata": {
    "id": "-o-qfnxSI0ZY"
   },
   "source": [
    "## Create A User History"
   ]
  },
  {
   "cell_type": "code",
   "execution_count": 75,
   "metadata": {
    "id": "exwdlLX6Zo4N"
   },
   "outputs": [
    {
     "name": "stdout",
     "output_type": "stream",
     "text": [
      "[(494, 0.5071544384923217), (6448, 0.4629152493253508), (18755, 0.438045533740767), (3163, 0.40940680486492576), (12749, 0.4021340397544125), (10578, 0.3603166019806309), (8815, 0.35271221965616123), (331, 0.35238112248716846), (8786, 0.35213667661454584), (10178, 0.34430107021278733), (8678, 0.3404762895419772), (7223, 0.3359945901590442), (17141, 0.33043870356325106), (3946, 0.3301416035342067), (17011, 0.3226536141686788), (17479, 0.3193944718122527), (18367, 0.3192684326136055), (1599, 0.3191597208208604), (7215, 0.3186395193040094), (11198, 0.31559808793440547), (11457, 0.315403477148481), (13856, 0.31506992393469735), (14310, 0.31295014236209195), (8916, 0.3129174726989994), (10345, 0.31091846407179896), (5426, 0.30631064443882533), (11537, 0.30508934234101515), (9918, 0.3027431948886926), (18607, 0.29939531756205273), (13108, 0.29899915640585484), (3330, 0.29863063185046906), (6348, 0.2981763456469973), (11536, 0.2979009295722159), (7557, 0.2949469704939959), (1118, 0.294565095662542), (14257, 0.29416877414521314), (3579, 0.2926687656877132), (14253, 0.29264784841103886), (11970, 0.29203033724698113)]\n"
     ]
    }
   ],
   "source": [
    "user_history = finaldf.sample(n=20)\n",
    "centroid=user_history.mean()\n",
    "finaldf.loc[-1] = centroid\n",
    "finaldf.index = finaldf.index + 1\n",
    "finaldf = finaldf.sort_index()\n",
    "    \n",
    "new_vector=finaldf.to_numpy()\n",
    "similarity_centroid=cosine_similarity(new_vector)\n",
    "game_list_from_centroid=sorted(list(enumerate(similarity_centroid[0])),reverse=True, key=lambda x:x[1])[1:40]\n",
    "print(game_list_from_centroid)"
   ]
  },
  {
   "cell_type": "code",
   "execution_count": 76,
   "metadata": {},
   "outputs": [],
   "source": [
    "def Average(lst):\n",
    "    return sum(lst) / len(lst)"
   ]
  },
  {
   "cell_type": "code",
   "execution_count": 77,
   "metadata": {},
   "outputs": [
    {
     "data": {
      "text/html": [
       "<div>\n",
       "<style scoped>\n",
       "    .dataframe tbody tr th:only-of-type {\n",
       "        vertical-align: middle;\n",
       "    }\n",
       "\n",
       "    .dataframe tbody tr th {\n",
       "        vertical-align: top;\n",
       "    }\n",
       "\n",
       "    .dataframe thead th {\n",
       "        text-align: right;\n",
       "    }\n",
       "</style>\n",
       "<table border=\"1\" class=\"dataframe\">\n",
       "  <thead>\n",
       "    <tr style=\"text-align: right;\">\n",
       "      <th></th>\n",
       "      <th>0</th>\n",
       "      <th>1</th>\n",
       "      <th>2</th>\n",
       "      <th>3</th>\n",
       "      <th>4</th>\n",
       "      <th>5</th>\n",
       "      <th>6</th>\n",
       "      <th>7</th>\n",
       "      <th>8</th>\n",
       "      <th>9</th>\n",
       "      <th>...</th>\n",
       "      <th>1857</th>\n",
       "      <th>1858</th>\n",
       "      <th>1859</th>\n",
       "      <th>1860</th>\n",
       "      <th>1861</th>\n",
       "      <th>1862</th>\n",
       "      <th>1863</th>\n",
       "      <th>1864</th>\n",
       "      <th>1865</th>\n",
       "      <th>1866</th>\n",
       "    </tr>\n",
       "  </thead>\n",
       "  <tbody>\n",
       "    <tr>\n",
       "      <th>0</th>\n",
       "      <td>1.364738</td>\n",
       "      <td>0.398878</td>\n",
       "      <td>-0.442117</td>\n",
       "      <td>0.507384</td>\n",
       "      <td>-0.026438</td>\n",
       "      <td>0.015336</td>\n",
       "      <td>-0.257576</td>\n",
       "      <td>-0.132095</td>\n",
       "      <td>0.150360</td>\n",
       "      <td>-0.208119</td>\n",
       "      <td>...</td>\n",
       "      <td>-0.021785</td>\n",
       "      <td>-0.028180</td>\n",
       "      <td>-0.009216</td>\n",
       "      <td>-0.020516</td>\n",
       "      <td>0.024323</td>\n",
       "      <td>0.006132</td>\n",
       "      <td>-0.028084</td>\n",
       "      <td>0.105719</td>\n",
       "      <td>0.045257</td>\n",
       "      <td>0.017245</td>\n",
       "    </tr>\n",
       "    <tr>\n",
       "      <th>2</th>\n",
       "      <td>3.857342</td>\n",
       "      <td>-1.164547</td>\n",
       "      <td>-4.204653</td>\n",
       "      <td>-1.304215</td>\n",
       "      <td>-1.401527</td>\n",
       "      <td>0.056480</td>\n",
       "      <td>-0.233718</td>\n",
       "      <td>2.344752</td>\n",
       "      <td>1.066224</td>\n",
       "      <td>0.072569</td>\n",
       "      <td>...</td>\n",
       "      <td>0.006502</td>\n",
       "      <td>-0.133450</td>\n",
       "      <td>0.060365</td>\n",
       "      <td>-0.028397</td>\n",
       "      <td>0.015947</td>\n",
       "      <td>0.027876</td>\n",
       "      <td>-0.160457</td>\n",
       "      <td>0.094107</td>\n",
       "      <td>-0.001705</td>\n",
       "      <td>0.139259</td>\n",
       "    </tr>\n",
       "    <tr>\n",
       "      <th>3</th>\n",
       "      <td>-3.499565</td>\n",
       "      <td>0.541343</td>\n",
       "      <td>-0.541699</td>\n",
       "      <td>0.766620</td>\n",
       "      <td>-0.036341</td>\n",
       "      <td>-0.368553</td>\n",
       "      <td>-0.222674</td>\n",
       "      <td>-0.072639</td>\n",
       "      <td>-0.326582</td>\n",
       "      <td>0.175338</td>\n",
       "      <td>...</td>\n",
       "      <td>0.001639</td>\n",
       "      <td>0.002158</td>\n",
       "      <td>0.002734</td>\n",
       "      <td>0.001034</td>\n",
       "      <td>0.000058</td>\n",
       "      <td>0.001126</td>\n",
       "      <td>0.001862</td>\n",
       "      <td>0.001765</td>\n",
       "      <td>0.003462</td>\n",
       "      <td>-0.001801</td>\n",
       "    </tr>\n",
       "    <tr>\n",
       "      <th>7</th>\n",
       "      <td>2.186374</td>\n",
       "      <td>0.940213</td>\n",
       "      <td>0.468266</td>\n",
       "      <td>1.004105</td>\n",
       "      <td>-0.755443</td>\n",
       "      <td>0.148930</td>\n",
       "      <td>-0.532595</td>\n",
       "      <td>0.716845</td>\n",
       "      <td>-1.539676</td>\n",
       "      <td>0.676576</td>\n",
       "      <td>...</td>\n",
       "      <td>0.000868</td>\n",
       "      <td>-0.041503</td>\n",
       "      <td>0.041448</td>\n",
       "      <td>-0.211327</td>\n",
       "      <td>0.162211</td>\n",
       "      <td>-0.003098</td>\n",
       "      <td>-0.001314</td>\n",
       "      <td>0.006473</td>\n",
       "      <td>0.052223</td>\n",
       "      <td>-0.044762</td>\n",
       "    </tr>\n",
       "    <tr>\n",
       "      <th>8</th>\n",
       "      <td>-3.499565</td>\n",
       "      <td>0.541343</td>\n",
       "      <td>-0.541699</td>\n",
       "      <td>0.766620</td>\n",
       "      <td>-0.036341</td>\n",
       "      <td>-0.368553</td>\n",
       "      <td>-0.222674</td>\n",
       "      <td>-0.072639</td>\n",
       "      <td>-0.326582</td>\n",
       "      <td>0.175338</td>\n",
       "      <td>...</td>\n",
       "      <td>0.001639</td>\n",
       "      <td>0.002158</td>\n",
       "      <td>0.002734</td>\n",
       "      <td>0.001034</td>\n",
       "      <td>0.000058</td>\n",
       "      <td>0.001126</td>\n",
       "      <td>0.001862</td>\n",
       "      <td>0.001765</td>\n",
       "      <td>0.003462</td>\n",
       "      <td>-0.001801</td>\n",
       "    </tr>\n",
       "    <tr>\n",
       "      <th>9</th>\n",
       "      <td>-0.568959</td>\n",
       "      <td>0.486877</td>\n",
       "      <td>1.025571</td>\n",
       "      <td>0.377062</td>\n",
       "      <td>-1.120375</td>\n",
       "      <td>-0.755296</td>\n",
       "      <td>-0.473855</td>\n",
       "      <td>0.009898</td>\n",
       "      <td>0.405207</td>\n",
       "      <td>-0.404766</td>\n",
       "      <td>...</td>\n",
       "      <td>-0.112210</td>\n",
       "      <td>-0.085350</td>\n",
       "      <td>0.020433</td>\n",
       "      <td>0.044450</td>\n",
       "      <td>-0.079607</td>\n",
       "      <td>0.007442</td>\n",
       "      <td>0.075898</td>\n",
       "      <td>0.199581</td>\n",
       "      <td>0.043073</td>\n",
       "      <td>0.046270</td>\n",
       "    </tr>\n",
       "    <tr>\n",
       "      <th>10</th>\n",
       "      <td>0.605957</td>\n",
       "      <td>-1.027186</td>\n",
       "      <td>0.200481</td>\n",
       "      <td>-0.250076</td>\n",
       "      <td>-0.209024</td>\n",
       "      <td>4.041892</td>\n",
       "      <td>-1.022904</td>\n",
       "      <td>0.127199</td>\n",
       "      <td>-1.313110</td>\n",
       "      <td>-0.040107</td>\n",
       "      <td>...</td>\n",
       "      <td>-0.018550</td>\n",
       "      <td>0.131685</td>\n",
       "      <td>0.141336</td>\n",
       "      <td>0.335087</td>\n",
       "      <td>-0.219313</td>\n",
       "      <td>-0.055592</td>\n",
       "      <td>0.062591</td>\n",
       "      <td>-0.056563</td>\n",
       "      <td>0.110884</td>\n",
       "      <td>0.123032</td>\n",
       "    </tr>\n",
       "    <tr>\n",
       "      <th>12</th>\n",
       "      <td>9.824545</td>\n",
       "      <td>3.463323</td>\n",
       "      <td>-4.803154</td>\n",
       "      <td>0.957729</td>\n",
       "      <td>-0.969821</td>\n",
       "      <td>-2.179842</td>\n",
       "      <td>-1.223379</td>\n",
       "      <td>5.222376</td>\n",
       "      <td>1.427818</td>\n",
       "      <td>2.771667</td>\n",
       "      <td>...</td>\n",
       "      <td>-0.093411</td>\n",
       "      <td>0.164086</td>\n",
       "      <td>-0.029350</td>\n",
       "      <td>0.030866</td>\n",
       "      <td>-0.059250</td>\n",
       "      <td>-0.164409</td>\n",
       "      <td>0.040966</td>\n",
       "      <td>-0.265802</td>\n",
       "      <td>-0.041224</td>\n",
       "      <td>0.221448</td>\n",
       "    </tr>\n",
       "    <tr>\n",
       "      <th>13</th>\n",
       "      <td>-2.205537</td>\n",
       "      <td>0.074540</td>\n",
       "      <td>-0.029239</td>\n",
       "      <td>-0.304693</td>\n",
       "      <td>0.280411</td>\n",
       "      <td>1.331421</td>\n",
       "      <td>0.288296</td>\n",
       "      <td>1.115992</td>\n",
       "      <td>-0.191002</td>\n",
       "      <td>-0.658936</td>\n",
       "      <td>...</td>\n",
       "      <td>-0.085802</td>\n",
       "      <td>0.094413</td>\n",
       "      <td>0.101829</td>\n",
       "      <td>-0.008722</td>\n",
       "      <td>0.070562</td>\n",
       "      <td>0.038722</td>\n",
       "      <td>-0.037212</td>\n",
       "      <td>-0.064685</td>\n",
       "      <td>0.076344</td>\n",
       "      <td>-0.056223</td>\n",
       "    </tr>\n",
       "    <tr>\n",
       "      <th>14</th>\n",
       "      <td>1.515402</td>\n",
       "      <td>1.924537</td>\n",
       "      <td>-0.885068</td>\n",
       "      <td>0.998462</td>\n",
       "      <td>1.422998</td>\n",
       "      <td>0.050285</td>\n",
       "      <td>-0.411587</td>\n",
       "      <td>0.583398</td>\n",
       "      <td>0.016772</td>\n",
       "      <td>0.034298</td>\n",
       "      <td>...</td>\n",
       "      <td>-0.104262</td>\n",
       "      <td>-0.008646</td>\n",
       "      <td>0.118631</td>\n",
       "      <td>0.206398</td>\n",
       "      <td>-0.006842</td>\n",
       "      <td>0.121993</td>\n",
       "      <td>0.022113</td>\n",
       "      <td>-0.014753</td>\n",
       "      <td>0.052551</td>\n",
       "      <td>-0.044748</td>\n",
       "    </tr>\n",
       "  </tbody>\n",
       "</table>\n",
       "<p>10 rows × 1867 columns</p>\n",
       "</div>"
      ],
      "text/plain": [
       "        0         1         2         3         4         5         6     \\\n",
       "0   1.364738  0.398878 -0.442117  0.507384 -0.026438  0.015336 -0.257576   \n",
       "2   3.857342 -1.164547 -4.204653 -1.304215 -1.401527  0.056480 -0.233718   \n",
       "3  -3.499565  0.541343 -0.541699  0.766620 -0.036341 -0.368553 -0.222674   \n",
       "7   2.186374  0.940213  0.468266  1.004105 -0.755443  0.148930 -0.532595   \n",
       "8  -3.499565  0.541343 -0.541699  0.766620 -0.036341 -0.368553 -0.222674   \n",
       "9  -0.568959  0.486877  1.025571  0.377062 -1.120375 -0.755296 -0.473855   \n",
       "10  0.605957 -1.027186  0.200481 -0.250076 -0.209024  4.041892 -1.022904   \n",
       "12  9.824545  3.463323 -4.803154  0.957729 -0.969821 -2.179842 -1.223379   \n",
       "13 -2.205537  0.074540 -0.029239 -0.304693  0.280411  1.331421  0.288296   \n",
       "14  1.515402  1.924537 -0.885068  0.998462  1.422998  0.050285 -0.411587   \n",
       "\n",
       "        7         8         9     ...      1857      1858      1859      1860  \\\n",
       "0  -0.132095  0.150360 -0.208119  ... -0.021785 -0.028180 -0.009216 -0.020516   \n",
       "2   2.344752  1.066224  0.072569  ...  0.006502 -0.133450  0.060365 -0.028397   \n",
       "3  -0.072639 -0.326582  0.175338  ...  0.001639  0.002158  0.002734  0.001034   \n",
       "7   0.716845 -1.539676  0.676576  ...  0.000868 -0.041503  0.041448 -0.211327   \n",
       "8  -0.072639 -0.326582  0.175338  ...  0.001639  0.002158  0.002734  0.001034   \n",
       "9   0.009898  0.405207 -0.404766  ... -0.112210 -0.085350  0.020433  0.044450   \n",
       "10  0.127199 -1.313110 -0.040107  ... -0.018550  0.131685  0.141336  0.335087   \n",
       "12  5.222376  1.427818  2.771667  ... -0.093411  0.164086 -0.029350  0.030866   \n",
       "13  1.115992 -0.191002 -0.658936  ... -0.085802  0.094413  0.101829 -0.008722   \n",
       "14  0.583398  0.016772  0.034298  ... -0.104262 -0.008646  0.118631  0.206398   \n",
       "\n",
       "        1861      1862      1863      1864      1865      1866  \n",
       "0   0.024323  0.006132 -0.028084  0.105719  0.045257  0.017245  \n",
       "2   0.015947  0.027876 -0.160457  0.094107 -0.001705  0.139259  \n",
       "3   0.000058  0.001126  0.001862  0.001765  0.003462 -0.001801  \n",
       "7   0.162211 -0.003098 -0.001314  0.006473  0.052223 -0.044762  \n",
       "8   0.000058  0.001126  0.001862  0.001765  0.003462 -0.001801  \n",
       "9  -0.079607  0.007442  0.075898  0.199581  0.043073  0.046270  \n",
       "10 -0.219313 -0.055592  0.062591 -0.056563  0.110884  0.123032  \n",
       "12 -0.059250 -0.164409  0.040966 -0.265802 -0.041224  0.221448  \n",
       "13  0.070562  0.038722 -0.037212 -0.064685  0.076344 -0.056223  \n",
       "14 -0.006842  0.121993  0.022113 -0.014753  0.052551 -0.044748  \n",
       "\n",
       "[10 rows x 1867 columns]"
      ]
     },
     "execution_count": 77,
     "metadata": {},
     "output_type": "execute_result"
    }
   ],
   "source": [
    "myUserData = finaldf.sample(n = 10000)\n",
    "def ListGames(myUserData, df):\n",
    "    gameYearSorted = [[],[]]\n",
    "    for i in myUserData:\n",
    "        if(df.iloc[i + 1].Release_Date <= 2020):\n",
    "            gameYearSorted[0].append(finaldf.iloc[i])\n",
    "        elif(df.iloc[i + 1].Release_Date == 2021):\n",
    "            gameYearSorted[1].append(finaldf.iloc[i])\n",
    "    return gameYearSorted\n",
    "tst = ListGames(myUserData, df)\n",
    "pre2021 = tst[0]\n",
    "my2021 = tst[1]\n",
    "pre2021 = pd.DataFrame(pre2021)\n",
    "my2021 = pd.DataFrame(my2021)\n",
    "pre2021.head(10)"
   ]
  },
  {
   "cell_type": "code",
   "execution_count": 78,
   "metadata": {},
   "outputs": [
    {
     "data": {
      "text/html": [
       "<div>\n",
       "<style scoped>\n",
       "    .dataframe tbody tr th:only-of-type {\n",
       "        vertical-align: middle;\n",
       "    }\n",
       "\n",
       "    .dataframe tbody tr th {\n",
       "        vertical-align: top;\n",
       "    }\n",
       "\n",
       "    .dataframe thead th {\n",
       "        text-align: right;\n",
       "    }\n",
       "</style>\n",
       "<table border=\"1\" class=\"dataframe\">\n",
       "  <thead>\n",
       "    <tr style=\"text-align: right;\">\n",
       "      <th></th>\n",
       "      <th>0</th>\n",
       "      <th>1</th>\n",
       "      <th>2</th>\n",
       "      <th>3</th>\n",
       "      <th>4</th>\n",
       "      <th>5</th>\n",
       "      <th>6</th>\n",
       "      <th>7</th>\n",
       "      <th>8</th>\n",
       "      <th>9</th>\n",
       "      <th>...</th>\n",
       "      <th>1857</th>\n",
       "      <th>1858</th>\n",
       "      <th>1859</th>\n",
       "      <th>1860</th>\n",
       "      <th>1861</th>\n",
       "      <th>1862</th>\n",
       "      <th>1863</th>\n",
       "      <th>1864</th>\n",
       "      <th>1865</th>\n",
       "      <th>1866</th>\n",
       "    </tr>\n",
       "  </thead>\n",
       "  <tbody>\n",
       "    <tr>\n",
       "      <th>1</th>\n",
       "      <td>-0.729502</td>\n",
       "      <td>0.687477</td>\n",
       "      <td>-0.641385</td>\n",
       "      <td>0.032785</td>\n",
       "      <td>0.236546</td>\n",
       "      <td>0.826429</td>\n",
       "      <td>-1.006304</td>\n",
       "      <td>-0.444173</td>\n",
       "      <td>-0.396475</td>\n",
       "      <td>-0.114984</td>\n",
       "      <td>...</td>\n",
       "      <td>0.070572</td>\n",
       "      <td>0.108275</td>\n",
       "      <td>-0.041844</td>\n",
       "      <td>0.050946</td>\n",
       "      <td>0.062812</td>\n",
       "      <td>0.003485</td>\n",
       "      <td>0.080394</td>\n",
       "      <td>-0.152237</td>\n",
       "      <td>0.244314</td>\n",
       "      <td>0.153807</td>\n",
       "    </tr>\n",
       "    <tr>\n",
       "      <th>4</th>\n",
       "      <td>-0.772277</td>\n",
       "      <td>-1.427576</td>\n",
       "      <td>0.550445</td>\n",
       "      <td>-1.955713</td>\n",
       "      <td>-0.572065</td>\n",
       "      <td>0.527786</td>\n",
       "      <td>1.089030</td>\n",
       "      <td>1.360639</td>\n",
       "      <td>-1.549569</td>\n",
       "      <td>-2.682784</td>\n",
       "      <td>...</td>\n",
       "      <td>0.010945</td>\n",
       "      <td>-0.060983</td>\n",
       "      <td>-0.086673</td>\n",
       "      <td>0.008425</td>\n",
       "      <td>-0.023616</td>\n",
       "      <td>-0.013796</td>\n",
       "      <td>0.038651</td>\n",
       "      <td>-0.018142</td>\n",
       "      <td>-0.050297</td>\n",
       "      <td>0.035549</td>\n",
       "    </tr>\n",
       "    <tr>\n",
       "      <th>11</th>\n",
       "      <td>2.166604</td>\n",
       "      <td>-3.582698</td>\n",
       "      <td>2.389040</td>\n",
       "      <td>2.257605</td>\n",
       "      <td>4.521156</td>\n",
       "      <td>-0.889533</td>\n",
       "      <td>-2.392891</td>\n",
       "      <td>2.556502</td>\n",
       "      <td>0.971753</td>\n",
       "      <td>1.604594</td>\n",
       "      <td>...</td>\n",
       "      <td>0.084915</td>\n",
       "      <td>-0.060641</td>\n",
       "      <td>-0.201488</td>\n",
       "      <td>0.038494</td>\n",
       "      <td>-0.168827</td>\n",
       "      <td>-0.024611</td>\n",
       "      <td>0.026359</td>\n",
       "      <td>0.016650</td>\n",
       "      <td>-0.058166</td>\n",
       "      <td>0.187367</td>\n",
       "    </tr>\n",
       "    <tr>\n",
       "      <th>26</th>\n",
       "      <td>-1.641923</td>\n",
       "      <td>-1.122691</td>\n",
       "      <td>0.054544</td>\n",
       "      <td>0.997604</td>\n",
       "      <td>-0.303341</td>\n",
       "      <td>1.129091</td>\n",
       "      <td>-0.444677</td>\n",
       "      <td>-0.525893</td>\n",
       "      <td>-0.202225</td>\n",
       "      <td>0.648423</td>\n",
       "      <td>...</td>\n",
       "      <td>0.011137</td>\n",
       "      <td>0.008764</td>\n",
       "      <td>-0.125571</td>\n",
       "      <td>-0.027158</td>\n",
       "      <td>-0.072810</td>\n",
       "      <td>0.002705</td>\n",
       "      <td>0.145900</td>\n",
       "      <td>0.030852</td>\n",
       "      <td>0.024369</td>\n",
       "      <td>0.031410</td>\n",
       "    </tr>\n",
       "    <tr>\n",
       "      <th>30</th>\n",
       "      <td>-3.499565</td>\n",
       "      <td>0.541343</td>\n",
       "      <td>-0.541699</td>\n",
       "      <td>0.766620</td>\n",
       "      <td>-0.036341</td>\n",
       "      <td>-0.368553</td>\n",
       "      <td>-0.222674</td>\n",
       "      <td>-0.072639</td>\n",
       "      <td>-0.326582</td>\n",
       "      <td>0.175338</td>\n",
       "      <td>...</td>\n",
       "      <td>0.001639</td>\n",
       "      <td>0.002158</td>\n",
       "      <td>0.002734</td>\n",
       "      <td>0.001034</td>\n",
       "      <td>0.000058</td>\n",
       "      <td>0.001126</td>\n",
       "      <td>0.001862</td>\n",
       "      <td>0.001765</td>\n",
       "      <td>0.003462</td>\n",
       "      <td>-0.001801</td>\n",
       "    </tr>\n",
       "    <tr>\n",
       "      <th>39</th>\n",
       "      <td>2.270847</td>\n",
       "      <td>2.913687</td>\n",
       "      <td>1.092231</td>\n",
       "      <td>0.815584</td>\n",
       "      <td>0.074109</td>\n",
       "      <td>-0.453195</td>\n",
       "      <td>-2.818422</td>\n",
       "      <td>-0.046172</td>\n",
       "      <td>0.097635</td>\n",
       "      <td>0.325550</td>\n",
       "      <td>...</td>\n",
       "      <td>0.043991</td>\n",
       "      <td>0.037312</td>\n",
       "      <td>0.020735</td>\n",
       "      <td>-0.077607</td>\n",
       "      <td>0.004450</td>\n",
       "      <td>-0.079119</td>\n",
       "      <td>-0.050635</td>\n",
       "      <td>0.081356</td>\n",
       "      <td>0.023893</td>\n",
       "      <td>0.030314</td>\n",
       "    </tr>\n",
       "    <tr>\n",
       "      <th>45</th>\n",
       "      <td>0.036098</td>\n",
       "      <td>0.402297</td>\n",
       "      <td>1.050237</td>\n",
       "      <td>0.024405</td>\n",
       "      <td>-0.618775</td>\n",
       "      <td>-0.066021</td>\n",
       "      <td>-0.623770</td>\n",
       "      <td>0.580868</td>\n",
       "      <td>1.217871</td>\n",
       "      <td>-0.029662</td>\n",
       "      <td>...</td>\n",
       "      <td>0.411079</td>\n",
       "      <td>0.208991</td>\n",
       "      <td>-0.260976</td>\n",
       "      <td>-0.005081</td>\n",
       "      <td>-0.115628</td>\n",
       "      <td>0.132366</td>\n",
       "      <td>0.127989</td>\n",
       "      <td>-0.151102</td>\n",
       "      <td>-0.156753</td>\n",
       "      <td>0.462828</td>\n",
       "    </tr>\n",
       "    <tr>\n",
       "      <th>49</th>\n",
       "      <td>0.241155</td>\n",
       "      <td>2.901796</td>\n",
       "      <td>-0.168859</td>\n",
       "      <td>-0.540411</td>\n",
       "      <td>-0.207535</td>\n",
       "      <td>-0.396434</td>\n",
       "      <td>-0.447762</td>\n",
       "      <td>0.259237</td>\n",
       "      <td>0.178935</td>\n",
       "      <td>-0.660749</td>\n",
       "      <td>...</td>\n",
       "      <td>0.138551</td>\n",
       "      <td>-0.023902</td>\n",
       "      <td>0.038398</td>\n",
       "      <td>0.009337</td>\n",
       "      <td>0.039256</td>\n",
       "      <td>-0.145324</td>\n",
       "      <td>-0.103681</td>\n",
       "      <td>0.014001</td>\n",
       "      <td>0.004352</td>\n",
       "      <td>-0.041864</td>\n",
       "    </tr>\n",
       "    <tr>\n",
       "      <th>51</th>\n",
       "      <td>-0.122555</td>\n",
       "      <td>1.443085</td>\n",
       "      <td>2.348122</td>\n",
       "      <td>-2.231955</td>\n",
       "      <td>-1.379090</td>\n",
       "      <td>0.334396</td>\n",
       "      <td>0.026922</td>\n",
       "      <td>1.540229</td>\n",
       "      <td>2.557574</td>\n",
       "      <td>0.289561</td>\n",
       "      <td>...</td>\n",
       "      <td>0.079068</td>\n",
       "      <td>0.040397</td>\n",
       "      <td>-0.128728</td>\n",
       "      <td>0.086229</td>\n",
       "      <td>0.106845</td>\n",
       "      <td>0.012391</td>\n",
       "      <td>-0.049649</td>\n",
       "      <td>-0.070367</td>\n",
       "      <td>0.014254</td>\n",
       "      <td>0.039859</td>\n",
       "    </tr>\n",
       "    <tr>\n",
       "      <th>53</th>\n",
       "      <td>-3.499565</td>\n",
       "      <td>0.541343</td>\n",
       "      <td>-0.541699</td>\n",
       "      <td>0.766620</td>\n",
       "      <td>-0.036341</td>\n",
       "      <td>-0.368553</td>\n",
       "      <td>-0.222674</td>\n",
       "      <td>-0.072639</td>\n",
       "      <td>-0.326582</td>\n",
       "      <td>0.175338</td>\n",
       "      <td>...</td>\n",
       "      <td>0.001639</td>\n",
       "      <td>0.002158</td>\n",
       "      <td>0.002734</td>\n",
       "      <td>0.001034</td>\n",
       "      <td>0.000058</td>\n",
       "      <td>0.001126</td>\n",
       "      <td>0.001862</td>\n",
       "      <td>0.001765</td>\n",
       "      <td>0.003462</td>\n",
       "      <td>-0.001801</td>\n",
       "    </tr>\n",
       "  </tbody>\n",
       "</table>\n",
       "<p>10 rows × 1867 columns</p>\n",
       "</div>"
      ],
      "text/plain": [
       "        0         1         2         3         4         5         6     \\\n",
       "1  -0.729502  0.687477 -0.641385  0.032785  0.236546  0.826429 -1.006304   \n",
       "4  -0.772277 -1.427576  0.550445 -1.955713 -0.572065  0.527786  1.089030   \n",
       "11  2.166604 -3.582698  2.389040  2.257605  4.521156 -0.889533 -2.392891   \n",
       "26 -1.641923 -1.122691  0.054544  0.997604 -0.303341  1.129091 -0.444677   \n",
       "30 -3.499565  0.541343 -0.541699  0.766620 -0.036341 -0.368553 -0.222674   \n",
       "39  2.270847  2.913687  1.092231  0.815584  0.074109 -0.453195 -2.818422   \n",
       "45  0.036098  0.402297  1.050237  0.024405 -0.618775 -0.066021 -0.623770   \n",
       "49  0.241155  2.901796 -0.168859 -0.540411 -0.207535 -0.396434 -0.447762   \n",
       "51 -0.122555  1.443085  2.348122 -2.231955 -1.379090  0.334396  0.026922   \n",
       "53 -3.499565  0.541343 -0.541699  0.766620 -0.036341 -0.368553 -0.222674   \n",
       "\n",
       "        7         8         9     ...      1857      1858      1859      1860  \\\n",
       "1  -0.444173 -0.396475 -0.114984  ...  0.070572  0.108275 -0.041844  0.050946   \n",
       "4   1.360639 -1.549569 -2.682784  ...  0.010945 -0.060983 -0.086673  0.008425   \n",
       "11  2.556502  0.971753  1.604594  ...  0.084915 -0.060641 -0.201488  0.038494   \n",
       "26 -0.525893 -0.202225  0.648423  ...  0.011137  0.008764 -0.125571 -0.027158   \n",
       "30 -0.072639 -0.326582  0.175338  ...  0.001639  0.002158  0.002734  0.001034   \n",
       "39 -0.046172  0.097635  0.325550  ...  0.043991  0.037312  0.020735 -0.077607   \n",
       "45  0.580868  1.217871 -0.029662  ...  0.411079  0.208991 -0.260976 -0.005081   \n",
       "49  0.259237  0.178935 -0.660749  ...  0.138551 -0.023902  0.038398  0.009337   \n",
       "51  1.540229  2.557574  0.289561  ...  0.079068  0.040397 -0.128728  0.086229   \n",
       "53 -0.072639 -0.326582  0.175338  ...  0.001639  0.002158  0.002734  0.001034   \n",
       "\n",
       "        1861      1862      1863      1864      1865      1866  \n",
       "1   0.062812  0.003485  0.080394 -0.152237  0.244314  0.153807  \n",
       "4  -0.023616 -0.013796  0.038651 -0.018142 -0.050297  0.035549  \n",
       "11 -0.168827 -0.024611  0.026359  0.016650 -0.058166  0.187367  \n",
       "26 -0.072810  0.002705  0.145900  0.030852  0.024369  0.031410  \n",
       "30  0.000058  0.001126  0.001862  0.001765  0.003462 -0.001801  \n",
       "39  0.004450 -0.079119 -0.050635  0.081356  0.023893  0.030314  \n",
       "45 -0.115628  0.132366  0.127989 -0.151102 -0.156753  0.462828  \n",
       "49  0.039256 -0.145324 -0.103681  0.014001  0.004352 -0.041864  \n",
       "51  0.106845  0.012391 -0.049649 -0.070367  0.014254  0.039859  \n",
       "53  0.000058  0.001126  0.001862  0.001765  0.003462 -0.001801  \n",
       "\n",
       "[10 rows x 1867 columns]"
      ]
     },
     "execution_count": 78,
     "metadata": {},
     "output_type": "execute_result"
    }
   ],
   "source": [
    "my2021.head(10)"
   ]
  },
  {
   "cell_type": "code",
   "execution_count": 79,
   "metadata": {},
   "outputs": [
    {
     "name": "stdout",
     "output_type": "stream",
     "text": [
      "0       0.138460\n",
      "1       0.040167\n",
      "2      -0.078288\n",
      "3      -0.037345\n",
      "4      -0.076766\n",
      "          ...   \n",
      "1862    0.000652\n",
      "1863   -0.000089\n",
      "1864    0.001146\n",
      "1865    0.000316\n",
      "1866   -0.002189\n",
      "Length: 1867, dtype: float64\n",
      "[(494, 0.5071544384923224), (6448, 0.4629152493253506), (18755, 0.43804553374076716), (3163, 0.40940680486492637), (12749, 0.4021340397544133), (10578, 0.36031660198063065), (8815, 0.35271221965616134), (331, 0.3523811224871678), (8786, 0.3521366766145466), (10178, 0.3443010702127881), (8678, 0.34047628954197773), (7223, 0.33599459015904465), (17141, 0.330438703563251), (3946, 0.3301416035342065), (17011, 0.3226536141686784), (17479, 0.3193944718122529), (18367, 0.31926843261360544), (1599, 0.31915972082085997), (7215, 0.31863951930400874), (11198, 0.31559808793440597), (11457, 0.315403477148481), (13856, 0.31506992393469824), (14310, 0.3129501423620917), (8916, 0.31291747269899917), (10345, 0.31091846407179896), (5426, 0.30631064443882533), (11537, 0.305089342341015), (9918, 0.30274319488869267), (18607, 0.29939531756205323), (13108, 0.29899915640585506), (3330, 0.298630631850469), (6348, 0.29817634564699785), (11536, 0.29790092957221614), (7557, 0.2949469704939962), (1118, 0.2945650956625421), (14257, 0.2941687741452136), (3579, 0.29266876568771333), (14253, 0.2926478484110388), (11970, 0.2920303372469812)]\n"
     ]
    }
   ],
   "source": [
    "centroid=pre2021.mean()\n",
    "print(centroid)\n",
    "pre2021.loc[-1] = centroid\n",
    "pre2021.index = pre2021.index\n",
    "pre2021 = finaldf.sort_index()\n",
    "    \n",
    "new_vector=pre2021.to_numpy()\n",
    "similarity_centroid=cosine_similarity(new_vector)\n",
    "cPre2021=sorted(list(enumerate(similarity_centroid[0])),reverse=True, key=lambda x:x[1])[1:40]\n",
    "print(cPre2021)"
   ]
  },
  {
   "cell_type": "code",
   "execution_count": 80,
   "metadata": {},
   "outputs": [
    {
     "name": "stdout",
     "output_type": "stream",
     "text": [
      "0      -0.127422\n",
      "1       0.048513\n",
      "2      -0.081054\n",
      "3      -0.095009\n",
      "4      -0.020361\n",
      "          ...   \n",
      "1862    0.004553\n",
      "1863   -0.004585\n",
      "1864   -0.006756\n",
      "1865    0.006848\n",
      "1866    0.009728\n",
      "Length: 1867, dtype: float64\n",
      "[(494, 0.5071544384923224), (6448, 0.4629152493253506), (18755, 0.43804553374076716), (3163, 0.40940680486492637), (12749, 0.4021340397544133), (10578, 0.36031660198063065), (8815, 0.35271221965616134), (331, 0.3523811224871678), (8786, 0.3521366766145466), (10178, 0.3443010702127881), (8678, 0.34047628954197773), (7223, 0.33599459015904465), (17141, 0.330438703563251), (3946, 0.3301416035342065), (17011, 0.3226536141686784), (17479, 0.3193944718122529), (18367, 0.31926843261360544), (1599, 0.31915972082085997), (7215, 0.31863951930400874), (11198, 0.31559808793440597), (11457, 0.315403477148481), (13856, 0.31506992393469824), (14310, 0.3129501423620917), (8916, 0.31291747269899917), (10345, 0.31091846407179896), (5426, 0.30631064443882533), (11537, 0.305089342341015), (9918, 0.30274319488869267), (18607, 0.29939531756205323), (13108, 0.29899915640585506), (3330, 0.298630631850469), (6348, 0.29817634564699785), (11536, 0.29790092957221614), (7557, 0.2949469704939962), (1118, 0.2945650956625421), (14257, 0.2941687741452136), (3579, 0.29266876568771333), (14253, 0.2926478484110388), (11970, 0.2920303372469812)]\n"
     ]
    }
   ],
   "source": [
    "centroid2=my2021.mean()\n",
    "print(centroid2)\n",
    "my2021.loc[-1] = centroid2\n",
    "my2021.index = my2021.index\n",
    "my2021 = finaldf.sort_index()\n",
    "    \n",
    "new_vector=my2021.to_numpy()\n",
    "similarity_centroid=cosine_similarity(new_vector)\n",
    "cMy2021=sorted(list(enumerate(similarity_centroid[0])),reverse=True, key=lambda x:x[1])[1:40]\n",
    "print(cMy2021)"
   ]
  },
  {
   "cell_type": "code",
   "execution_count": 81,
   "metadata": {
    "id": "mS8vkampUBLw"
   },
   "outputs": [
    {
     "name": "stdout",
     "output_type": "stream",
     "text": [
      "In our training data\n",
      "In our training data\n",
      "In our training data\n",
      "In our training data\n",
      "In our training data\n",
      "In our training data\n",
      "In our training data\n",
      "In our training data\n",
      "In our training data\n",
      "In our training data\n",
      "In our training data\n",
      "In our training data\n",
      "In our training data\n",
      "In our training data\n",
      "In our training data\n",
      "In our training data\n",
      "In our training data\n",
      "In our training data\n",
      "In our training data\n",
      "In our training data\n",
      "In our training data\n",
      "In our training data\n",
      "In our training data\n",
      "In our training data\n",
      "In our training data\n",
      "In our training data\n",
      "In our training data\n",
      "In our training data\n",
      "In our training data\n",
      "In our training data\n",
      "In our training data\n",
      "In our training data\n",
      "In our training data\n",
      "In our training data\n",
      "In our training data\n",
      "In our training data\n"
     ]
    }
   ],
   "source": [
    "def GetName(hlist,frame): \n",
    "    allNames = [[],[]]\n",
    "    for i in hlist:\n",
    "        if (frame.iloc[i[0]+1].Release_Date <= 2021):\n",
    "            print(\"In our training data\")\n",
    "            allNames[0].append(i)\n",
    "            allNames[0].append(frame.iloc[i[0]+1].Name)\n",
    "        elif (frame.iloc[i[0]+1].Release_Date == 2021):\n",
    "            print(\"Got one! \\t \\t\")\n",
    "            allNames[1].append(i)\n",
    "            allNames[1].append(frame.iloc[i[0]+1].Name)\n",
    "    return allNames\n",
    "names_sorted = GetName(game_list_from_centroid, df)"
   ]
  },
  {
   "cell_type": "code",
   "execution_count": 82,
   "metadata": {},
   "outputs": [],
   "source": [
    "#GetName(cPre2021, df)"
   ]
  },
  {
   "cell_type": "code",
   "execution_count": 83,
   "metadata": {},
   "outputs": [
    {
     "name": "stdout",
     "output_type": "stream",
     "text": [
      "In our training data\n",
      "In our training data\n",
      "In our training data\n",
      "In our training data\n",
      "In our training data\n",
      "In our training data\n",
      "In our training data\n",
      "In our training data\n",
      "In our training data\n",
      "In our training data\n",
      "In our training data\n",
      "In our training data\n",
      "In our training data\n",
      "In our training data\n",
      "In our training data\n",
      "In our training data\n",
      "In our training data\n",
      "In our training data\n",
      "In our training data\n",
      "In our training data\n",
      "In our training data\n",
      "In our training data\n",
      "In our training data\n",
      "In our training data\n",
      "In our training data\n",
      "In our training data\n",
      "In our training data\n",
      "In our training data\n",
      "In our training data\n",
      "In our training data\n",
      "In our training data\n",
      "In our training data\n",
      "In our training data\n",
      "In our training data\n",
      "In our training data\n",
      "In our training data\n"
     ]
    },
    {
     "ename": "TypeError",
     "evalue": "'int' object is not iterable",
     "output_type": "error",
     "traceback": [
      "\u001b[1;31m---------------------------------------------------------------------------\u001b[0m",
      "\u001b[1;31mTypeError\u001b[0m                                 Traceback (most recent call last)",
      "\u001b[1;32m~\\AppData\\Local\\Temp\\ipykernel_5496\\2043122384.py\u001b[0m in \u001b[0;36m<module>\u001b[1;34m\u001b[0m\n\u001b[0;32m      7\u001b[0m             \u001b[0mmyUserData\u001b[0m\u001b[1;33m[\u001b[0m\u001b[1;36m1\u001b[0m\u001b[1;33m]\u001b[0m\u001b[1;33m.\u001b[0m\u001b[0mappend\u001b[0m\u001b[1;33m(\u001b[0m\u001b[0mi\u001b[0m\u001b[1;33m)\u001b[0m\u001b[1;33m\u001b[0m\u001b[1;33m\u001b[0m\u001b[0m\n\u001b[0;32m      8\u001b[0m     \u001b[1;32mreturn\u001b[0m \u001b[0mmyUserData\u001b[0m\u001b[1;33m\u001b[0m\u001b[1;33m\u001b[0m\u001b[0m\n\u001b[1;32m----> 9\u001b[1;33m \u001b[0mprint\u001b[0m\u001b[1;33m(\u001b[0m\u001b[0mget_user\u001b[0m\u001b[1;33m(\u001b[0m\u001b[0mGetName\u001b[0m\u001b[1;33m(\u001b[0m\u001b[0mcPre2021\u001b[0m\u001b[1;33m,\u001b[0m \u001b[0mdf\u001b[0m\u001b[1;33m)\u001b[0m\u001b[1;33m)\u001b[0m\u001b[1;33m)\u001b[0m\u001b[1;33m\u001b[0m\u001b[1;33m\u001b[0m\u001b[0m\n\u001b[0m",
      "\u001b[1;32m~\\AppData\\Local\\Temp\\ipykernel_5496\\2043122384.py\u001b[0m in \u001b[0;36mget_user\u001b[1;34m(allData)\u001b[0m\n\u001b[0;32m      1\u001b[0m \u001b[1;32mdef\u001b[0m \u001b[0mget_user\u001b[0m\u001b[1;33m(\u001b[0m\u001b[0mallData\u001b[0m\u001b[1;33m)\u001b[0m\u001b[1;33m:\u001b[0m\u001b[1;33m\u001b[0m\u001b[1;33m\u001b[0m\u001b[0m\n\u001b[0;32m      2\u001b[0m     \u001b[0mmyUserData\u001b[0m \u001b[1;33m=\u001b[0m \u001b[1;33m[\u001b[0m\u001b[1;33m[\u001b[0m\u001b[1;33m]\u001b[0m\u001b[1;33m,\u001b[0m\u001b[1;33m[\u001b[0m\u001b[1;33m]\u001b[0m\u001b[1;33m]\u001b[0m\u001b[1;33m\u001b[0m\u001b[1;33m\u001b[0m\u001b[0m\n\u001b[1;32m----> 3\u001b[1;33m     \u001b[1;32mfor\u001b[0m \u001b[0mi\u001b[0m \u001b[1;32min\u001b[0m \u001b[0mlen\u001b[0m\u001b[1;33m(\u001b[0m\u001b[0mallData\u001b[0m\u001b[1;33m)\u001b[0m\u001b[1;33m:\u001b[0m\u001b[1;33m\u001b[0m\u001b[1;33m\u001b[0m\u001b[0m\n\u001b[0m\u001b[0;32m      4\u001b[0m         \u001b[1;32mif\u001b[0m\u001b[1;33m(\u001b[0m\u001b[0mi\u001b[0m \u001b[1;33m%\u001b[0m \u001b[1;36m2\u001b[0m\u001b[1;33m)\u001b[0m\u001b[1;33m:\u001b[0m\u001b[1;33m\u001b[0m\u001b[1;33m\u001b[0m\u001b[0m\n\u001b[0;32m      5\u001b[0m             \u001b[0mmyUserData\u001b[0m\u001b[1;33m[\u001b[0m\u001b[1;36m0\u001b[0m\u001b[1;33m]\u001b[0m\u001b[1;33m.\u001b[0m\u001b[0mappend\u001b[0m\u001b[1;33m(\u001b[0m\u001b[0mi\u001b[0m\u001b[1;33m)\u001b[0m\u001b[1;33m\u001b[0m\u001b[1;33m\u001b[0m\u001b[0m\n",
      "\u001b[1;31mTypeError\u001b[0m: 'int' object is not iterable"
     ]
    }
   ],
   "source": [
    "def get_user(allData):\n",
    "    myUserData = [[],[]]\n",
    "    for i in len(allData):\n",
    "        if(i % 2):\n",
    "            myUserData[0].append(i)\n",
    "        else:\n",
    "            myUserData[1].append(i)\n",
    "    return myUserData\n",
    "print(get_user(GetName(cPre2021, df)))"
   ]
  },
  {
   "cell_type": "markdown",
   "metadata": {
    "id": "Ydwq_uTcZj4y"
   },
   "source": [
    "## Cosine Similarity with Centroid"
   ]
  },
  {
   "cell_type": "code",
   "execution_count": 84,
   "metadata": {
    "colab": {
     "base_uri": "https://localhost:8080/"
    },
    "id": "iqeoc0QHaxVH",
    "outputId": "c2ba65cc-91d4-43c5-8567-3a02e9000f1f"
   },
   "outputs": [
    {
     "name": "stdout",
     "output_type": "stream",
     "text": [
      "[(494, 0.5071544384923217), (6448, 0.4629152493253508), (18755, 0.438045533740767), (3163, 0.40940680486492576), (12749, 0.4021340397544125), (10578, 0.3603166019806309), (8815, 0.35271221965616123), (331, 0.35238112248716846), (8786, 0.35213667661454584), (10178, 0.34430107021278733), (8678, 0.3404762895419772), (7223, 0.3359945901590442), (17141, 0.33043870356325106), (3946, 0.3301416035342067), (17011, 0.3226536141686788), (17479, 0.3193944718122527), (18367, 0.3192684326136055), (1599, 0.3191597208208604), (7215, 0.3186395193040094), (11198, 0.31559808793440547), (11457, 0.315403477148481), (13856, 0.31506992393469735), (14310, 0.31295014236209195), (8916, 0.3129174726989994), (10345, 0.31091846407179896), (5426, 0.30631064443882533), (11537, 0.30508934234101515), (9918, 0.3027431948886926), (18607, 0.29939531756205273), (13108, 0.29899915640585484), (3330, 0.29863063185046906), (6348, 0.2981763456469973), (11536, 0.2979009295722159), (7557, 0.2949469704939959), (1118, 0.294565095662542), (14257, 0.29416877414521314), (3579, 0.2926687656877132), (14253, 0.29264784841103886), (11970, 0.29203033724698113)]\n"
     ]
    }
   ],
   "source": [
    "print(game_list_from_centroid)"
   ]
  },
  {
   "cell_type": "code",
   "execution_count": 85,
   "metadata": {
    "id": "anz_Js_ecz8U"
   },
   "outputs": [
    {
     "name": "stdout",
     "output_type": "stream",
     "text": [
      "Unlit\n",
      "Hope's Journey: A Therapeutic Experience\n",
      "Flem\n",
      "MahjongSchool\n",
      "PRISON OF SON\n",
      "The Chatters Show\n",
      "Angel Flare\n",
      "Crimson Ranch\n",
      "Avem33\n",
      "Junkyard Fury\n",
      "Minotaur's Maze\n",
      "ASTRA\n",
      "Project Hunter\n",
      "Color Guys\n",
      "Cyber Attack\n",
      "Last Stanza\n",
      "Carom Billiards\n",
      "Atomorf2\n",
      "Civilization IV: Beyond the Sword\n",
      "Fun with Ragdolls: The Game\n",
      "DMT: Dream Dealer\n",
      "Darkstone\n",
      "CATMAN-GIMMICK ACTION GAME-\n",
      "Legend of Fainn Dynasty ～Battles of Beautiful Warlords～\n",
      "Clown Thug Cop Zombies\n",
      "Reminiscence\n",
      "Astro Emporia\n",
      "The Homestead Invasion\n",
      "Radiant Defense\n",
      "The Crimson Diamond: Chapter 1\n",
      "Mind Spheres\n",
      "Knight Crawlers Playtest\n",
      "Catnight\n",
      "Switch\n",
      "Brazed\n",
      "ToeJam & Earl in Panic on Funkotron\n",
      "Pulut Adventure\n",
      "The KillBox: Aquarius\n",
      "Solar 2\n"
     ]
    }
   ],
   "source": [
    "def Get_Name(hlist,frame): \n",
    "    for i in hlist:\n",
    "        print(frame.iloc[i[0]+1].Name)\n",
    "Get_Name(game_list_from_centroid, df)"
   ]
  },
  {
   "cell_type": "code",
   "execution_count": 86,
   "metadata": {
    "colab": {
     "base_uri": "https://localhost:8080/"
    },
    "id": "HulF8hcedNus",
    "outputId": "d8a1afaf-3a22-44a7-bdd4-478b1100ad6d"
   },
   "outputs": [
    {
     "name": "stdout",
     "output_type": "stream",
     "text": [
      "Unlit\n",
      "Hope's Journey: A Therapeutic Experience\n",
      "Flem\n",
      "MahjongSchool\n",
      "PRISON OF SON\n",
      "The Chatters Show\n",
      "Angel Flare\n",
      "Crimson Ranch\n",
      "Avem33\n",
      "Junkyard Fury\n",
      "Minotaur's Maze\n",
      "ASTRA\n",
      "Project Hunter\n",
      "Color Guys\n",
      "Cyber Attack\n",
      "Last Stanza\n",
      "Carom Billiards\n",
      "Atomorf2\n",
      "Civilization IV: Beyond the Sword\n",
      "Fun with Ragdolls: The Game\n",
      "DMT: Dream Dealer\n",
      "Darkstone\n",
      "CATMAN-GIMMICK ACTION GAME-\n",
      "Legend of Fainn Dynasty ～Battles of Beautiful Warlords～\n",
      "Clown Thug Cop Zombies\n",
      "Reminiscence\n",
      "Astro Emporia\n",
      "The Homestead Invasion\n",
      "Radiant Defense\n",
      "The Crimson Diamond: Chapter 1\n",
      "Mind Spheres\n",
      "Knight Crawlers Playtest\n",
      "Catnight\n",
      "Switch\n",
      "Brazed\n",
      "ToeJam & Earl in Panic on Funkotron\n",
      "Pulut Adventure\n",
      "The KillBox: Aquarius\n",
      "Solar 2\n"
     ]
    }
   ],
   "source": [
    "def Get_Name(hlist,frame): \n",
    "    for i in hlist:\n",
    "        print(frame.iloc[i[0]+1].Name)\n",
    "Get_Name(game_list_from_centroid, df)"
   ]
  },
  {
   "cell_type": "code",
   "execution_count": 87,
   "metadata": {},
   "outputs": [
    {
     "data": {
      "text/html": [
       "<div>\n",
       "<style scoped>\n",
       "    .dataframe tbody tr th:only-of-type {\n",
       "        vertical-align: middle;\n",
       "    }\n",
       "\n",
       "    .dataframe tbody tr th {\n",
       "        vertical-align: top;\n",
       "    }\n",
       "\n",
       "    .dataframe thead th {\n",
       "        text-align: right;\n",
       "    }\n",
       "</style>\n",
       "<table border=\"1\" class=\"dataframe\">\n",
       "  <thead>\n",
       "    <tr style=\"text-align: right;\">\n",
       "      <th></th>\n",
       "      <th>Price</th>\n",
       "      <th>User_Score</th>\n",
       "      <th>Positive</th>\n",
       "      <th>Negative</th>\n",
       "      <th>Achievements</th>\n",
       "      <th>Recommendations</th>\n",
       "      <th>Tags</th>\n",
       "      <th>Release_Date</th>\n",
       "      <th>Name</th>\n",
       "      <th>XFactor</th>\n",
       "    </tr>\n",
       "  </thead>\n",
       "  <tbody>\n",
       "    <tr>\n",
       "      <th>8</th>\n",
       "      <td>0.136546</td>\n",
       "      <td>0.0</td>\n",
       "      <td>0.000004</td>\n",
       "      <td>0.000001</td>\n",
       "      <td>0.0</td>\n",
       "      <td>0.0</td>\n",
       "      <td>Hello, this is a simple retro car drifting gam...</td>\n",
       "      <td>2020.0</td>\n",
       "      <td>Retro Drift</td>\n",
       "      <td>0.000004</td>\n",
       "    </tr>\n",
       "    <tr>\n",
       "      <th>2</th>\n",
       "      <td>0.096386</td>\n",
       "      <td>0.0</td>\n",
       "      <td>0.0</td>\n",
       "      <td>0.0</td>\n",
       "      <td>0.0</td>\n",
       "      <td>0.0</td>\n",
       "      <td>A simple fighting game with one attack. NAIR i...</td>\n",
       "      <td>2021.0</td>\n",
       "      <td>NAIR</td>\n",
       "      <td>0.0</td>\n",
       "    </tr>\n",
       "    <tr>\n",
       "      <th>3</th>\n",
       "      <td>0.056225</td>\n",
       "      <td>0.0</td>\n",
       "      <td>0.000487</td>\n",
       "      <td>0.000077</td>\n",
       "      <td>0.0134</td>\n",
       "      <td>0.000449</td>\n",
       "      <td>Vector Assault is a fast paced twin stick shoo...</td>\n",
       "      <td>2015.0</td>\n",
       "      <td>Vector Assault</td>\n",
       "      <td>0.000937</td>\n",
       "    </tr>\n",
       "    <tr>\n",
       "      <th>4</th>\n",
       "      <td>0.056225</td>\n",
       "      <td>0.0</td>\n",
       "      <td>0.000195</td>\n",
       "      <td>0.000031</td>\n",
       "      <td>0.0</td>\n",
       "      <td>0.000141</td>\n",
       "      <td>Bighead Runner is a casual endless runner, avo...</td>\n",
       "      <td>2018.0</td>\n",
       "      <td>Bighead Runner</td>\n",
       "      <td>0.000336</td>\n",
       "    </tr>\n",
       "    <tr>\n",
       "      <th>9</th>\n",
       "      <td>0.040161</td>\n",
       "      <td>0.0</td>\n",
       "      <td>0.0</td>\n",
       "      <td>0.000001</td>\n",
       "      <td>0.0</td>\n",
       "      <td>0.0</td>\n",
       "      <td>Drift between the states, collect bits, beat r...</td>\n",
       "      <td>2020.0</td>\n",
       "      <td>Interstate Drifter 1999</td>\n",
       "      <td>0.0</td>\n",
       "    </tr>\n",
       "  </tbody>\n",
       "</table>\n",
       "</div>"
      ],
      "text/plain": [
       "      Price User_Score  Positive  Negative Achievements Recommendations  \\\n",
       "8  0.136546        0.0  0.000004  0.000001          0.0             0.0   \n",
       "2  0.096386        0.0       0.0       0.0          0.0             0.0   \n",
       "3  0.056225        0.0  0.000487  0.000077       0.0134        0.000449   \n",
       "4  0.056225        0.0  0.000195  0.000031          0.0        0.000141   \n",
       "9  0.040161        0.0       0.0  0.000001          0.0             0.0   \n",
       "\n",
       "                                                Tags Release_Date  \\\n",
       "8  Hello, this is a simple retro car drifting gam...       2020.0   \n",
       "2  A simple fighting game with one attack. NAIR i...       2021.0   \n",
       "3  Vector Assault is a fast paced twin stick shoo...       2015.0   \n",
       "4  Bighead Runner is a casual endless runner, avo...       2018.0   \n",
       "9  Drift between the states, collect bits, beat r...       2020.0   \n",
       "\n",
       "                      Name   XFactor  \n",
       "8              Retro Drift  0.000004  \n",
       "2                     NAIR       0.0  \n",
       "3           Vector Assault  0.000937  \n",
       "4           Bighead Runner  0.000336  \n",
       "9  Interstate Drifter 1999       0.0  "
      ]
     },
     "execution_count": 87,
     "metadata": {},
     "output_type": "execute_result"
    }
   ],
   "source": [
    "price_ordered.head()"
   ]
  },
  {
   "cell_type": "code",
   "execution_count": 88,
   "metadata": {},
   "outputs": [
    {
     "ename": "TypeError",
     "evalue": "'int' object is not subscriptable",
     "output_type": "error",
     "traceback": [
      "\u001b[1;31m---------------------------------------------------------------------------\u001b[0m",
      "\u001b[1;31mTypeError\u001b[0m                                 Traceback (most recent call last)",
      "\u001b[1;32m~\\AppData\\Local\\Temp\\ipykernel_5496\\3942004413.py\u001b[0m in \u001b[0;36m<module>\u001b[1;34m\u001b[0m\n\u001b[0;32m     14\u001b[0m \u001b[1;33m\u001b[0m\u001b[0m\n\u001b[0;32m     15\u001b[0m \u001b[0mpre2021\u001b[0m \u001b[1;33m=\u001b[0m \u001b[0mmake_score_list\u001b[0m\u001b[1;33m(\u001b[0m\u001b[0mcPre2021\u001b[0m\u001b[1;33m,\u001b[0m \u001b[0mdata\u001b[0m\u001b[1;33m)\u001b[0m\u001b[1;33m\u001b[0m\u001b[1;33m\u001b[0m\u001b[0m\n\u001b[1;32m---> 16\u001b[1;33m \u001b[0mmy2021\u001b[0m \u001b[1;33m=\u001b[0m \u001b[0mmake_score_list\u001b[0m\u001b[1;33m(\u001b[0m\u001b[0mmy2021\u001b[0m\u001b[1;33m,\u001b[0m \u001b[0mdata\u001b[0m\u001b[1;33m)\u001b[0m\u001b[1;33m\u001b[0m\u001b[1;33m\u001b[0m\u001b[0m\n\u001b[0m\u001b[0;32m     17\u001b[0m \u001b[0mprint\u001b[0m\u001b[1;33m(\u001b[0m\u001b[0mformat_list\u001b[0m\u001b[1;33m)\u001b[0m\u001b[1;33m\u001b[0m\u001b[1;33m\u001b[0m\u001b[0m\n",
      "\u001b[1;32m~\\AppData\\Local\\Temp\\ipykernel_5496\\3942004413.py\u001b[0m in \u001b[0;36mmake_score_list\u001b[1;34m(hlist, frame)\u001b[0m\n\u001b[0;32m      5\u001b[0m     \u001b[0mlistPosition\u001b[0m \u001b[1;33m=\u001b[0m \u001b[1;33m[\u001b[0m\u001b[1;33m]\u001b[0m\u001b[1;33m\u001b[0m\u001b[1;33m\u001b[0m\u001b[0m\n\u001b[0;32m      6\u001b[0m     \u001b[1;32mfor\u001b[0m \u001b[0mi\u001b[0m \u001b[1;32min\u001b[0m \u001b[0mhlist\u001b[0m\u001b[1;33m:\u001b[0m\u001b[1;33m\u001b[0m\u001b[1;33m\u001b[0m\u001b[0m\n\u001b[1;32m----> 7\u001b[1;33m         \u001b[0mlistName\u001b[0m\u001b[1;33m.\u001b[0m\u001b[0mappend\u001b[0m\u001b[1;33m(\u001b[0m\u001b[0mframe\u001b[0m\u001b[1;33m.\u001b[0m\u001b[0miloc\u001b[0m\u001b[1;33m[\u001b[0m\u001b[0mi\u001b[0m\u001b[1;33m[\u001b[0m\u001b[1;36m0\u001b[0m\u001b[1;33m]\u001b[0m \u001b[1;33m+\u001b[0m \u001b[1;36m1\u001b[0m\u001b[1;33m]\u001b[0m\u001b[1;33m.\u001b[0m\u001b[0mName\u001b[0m\u001b[1;33m)\u001b[0m\u001b[1;33m\u001b[0m\u001b[1;33m\u001b[0m\u001b[0m\n\u001b[0m\u001b[0;32m      8\u001b[0m         \u001b[0mlistScore\u001b[0m\u001b[1;33m.\u001b[0m\u001b[0mappend\u001b[0m\u001b[1;33m(\u001b[0m\u001b[0mi\u001b[0m\u001b[1;33m[\u001b[0m\u001b[1;36m1\u001b[0m\u001b[1;33m]\u001b[0m\u001b[1;33m)\u001b[0m\u001b[1;33m\u001b[0m\u001b[1;33m\u001b[0m\u001b[0m\n\u001b[0;32m      9\u001b[0m         \u001b[0mlistPosition\u001b[0m\u001b[1;33m.\u001b[0m\u001b[0mappend\u001b[0m\u001b[1;33m(\u001b[0m\u001b[0mi\u001b[0m\u001b[1;33m[\u001b[0m\u001b[1;36m0\u001b[0m\u001b[1;33m]\u001b[0m\u001b[1;33m)\u001b[0m\u001b[1;33m\u001b[0m\u001b[1;33m\u001b[0m\u001b[0m\n",
      "\u001b[1;31mTypeError\u001b[0m: 'int' object is not subscriptable"
     ]
    }
   ],
   "source": [
    "def make_score_list(hlist, frame):\n",
    "    final_list = []\n",
    "    listName = []\n",
    "    listScore = []\n",
    "    listPosition = []\n",
    "    for i in hlist:\n",
    "        listName.append(frame.iloc[i[0] + 1].Name) \n",
    "        listScore.append(i[1])\n",
    "        listPosition.append(i[0])\n",
    "    final_list.append(listName) \n",
    "    final_list.append(listScore)\n",
    "    final_list.append(listPosition)\n",
    "    return final_list\n",
    "\n",
    "pre2021 = make_score_list(cPre2021, data)\n",
    "my2021 = make_score_list(my2021, data)\n",
    "print(format_list)"
   ]
  },
  {
   "cell_type": "code",
   "execution_count": 89,
   "metadata": {},
   "outputs": [
    {
     "name": "stdout",
     "output_type": "stream",
     "text": [
      "99185.87647733434\n"
     ]
    },
    {
     "data": {
      "text/plain": [
       "-13189.97460522869"
      ]
     },
     "execution_count": 89,
     "metadata": {},
     "output_type": "execute_result"
    }
   ],
   "source": [
    "import math\n",
    "\n",
    "def calcNDCG(scores1, scores2):\n",
    "    DCG = 0\n",
    "    IDCG = 0\n",
    "    for i in range(len(scores1)):\n",
    "        DCG += scores1[i] / (math.log2(i + 2))\n",
    "    for i in range(len(scores2)):\n",
    "        IDCG += scores2[i] / (math.log2(i + 2))\n",
    "    print(DCG)\n",
    "    return DCG / IDCG\n",
    "calcNDCG(pre2021[2], my2021[2])"
   ]
  },
  {
   "cell_type": "code",
   "execution_count": 90,
   "metadata": {},
   "outputs": [
    {
     "ename": "NameError",
     "evalue": "name 'format_list' is not defined",
     "output_type": "error",
     "traceback": [
      "\u001b[1;31m---------------------------------------------------------------------------\u001b[0m",
      "\u001b[1;31mNameError\u001b[0m                                 Traceback (most recent call last)",
      "\u001b[1;32m~\\AppData\\Local\\Temp\\ipykernel_5496\\1876265289.py\u001b[0m in \u001b[0;36m<module>\u001b[1;34m\u001b[0m\n\u001b[0;32m      9\u001b[0m     \u001b[1;32mreturn\u001b[0m \u001b[0mtrackClose\u001b[0m\u001b[1;33m\u001b[0m\u001b[1;33m\u001b[0m\u001b[0m\n\u001b[0;32m     10\u001b[0m \u001b[0mmeanFinaldf\u001b[0m \u001b[1;33m=\u001b[0m \u001b[0mfinaldf\u001b[0m\u001b[1;33m.\u001b[0m\u001b[0mmean\u001b[0m\u001b[1;33m(\u001b[0m\u001b[1;33m)\u001b[0m\u001b[1;33m\u001b[0m\u001b[1;33m\u001b[0m\u001b[0m\n\u001b[1;32m---> 11\u001b[1;33m \u001b[0mmyRecall\u001b[0m \u001b[1;33m=\u001b[0m \u001b[0mcheckRecall\u001b[0m\u001b[1;33m(\u001b[0m\u001b[0mformat_list\u001b[0m\u001b[1;33m[\u001b[0m\u001b[1;36m1\u001b[0m\u001b[1;33m]\u001b[0m\u001b[1;33m,\u001b[0m \u001b[0mmeanFinaldf\u001b[0m\u001b[1;33m)\u001b[0m\u001b[1;33m\u001b[0m\u001b[1;33m\u001b[0m\u001b[0m\n\u001b[0m",
      "\u001b[1;31mNameError\u001b[0m: name 'format_list' is not defined"
     ]
    }
   ],
   "source": [
    "def checkRecall(scores, frame):\n",
    "    trackClose = []\n",
    "    score = scores[0]\n",
    "    check_loop = 0\n",
    "    for i in frame:\n",
    "        print(i)\n",
    "        if(abs(score - i)):\n",
    "            trackClose.append(i)\n",
    "    return trackClose\n",
    "meanFinaldf = finaldf.mean()\n",
    "myRecall = checkRecall(format_list[1], meanFinaldf)"
   ]
  },
  {
   "cell_type": "markdown",
   "metadata": {
    "id": "n8wF851NY-iS"
   },
   "source": [
    "# ConvexHull -To check if this game could fit the user"
   ]
  },
  {
   "cell_type": "code",
   "execution_count": 91,
   "metadata": {
    "id": "fp_ezdbjWuRa"
   },
   "outputs": [],
   "source": [
    "from scipy.spatial import ConvexHull\n",
    "import scipy.spatial\n",
    "from scipy.spatial import Delaunay"
   ]
  },
  {
   "cell_type": "code",
   "execution_count": 92,
   "metadata": {
    "id": "n1YxBuyUdfsA"
   },
   "outputs": [],
   "source": [
    "pca_convex=PCA(n_components=10)\n"
   ]
  },
  {
   "cell_type": "code",
   "execution_count": 93,
   "metadata": {
    "id": "bhlSBA0yecUM"
   },
   "outputs": [],
   "source": [
    "c_df= pca_convex.fit(vector)"
   ]
  },
  {
   "cell_type": "code",
   "execution_count": 94,
   "metadata": {
    "id": "FLnnk0jGecUN"
   },
   "outputs": [],
   "source": [
    "c_df=pca_convex.transform(vector)"
   ]
  },
  {
   "cell_type": "code",
   "execution_count": 95,
   "metadata": {
    "id": "oLcQDYFHe4lq"
   },
   "outputs": [],
   "source": [
    "c_df=pd.DataFrame(c_df)"
   ]
  },
  {
   "cell_type": "code",
   "execution_count": 96,
   "metadata": {
    "id": "zAsD6qSjewUG"
   },
   "outputs": [],
   "source": [
    "user_history_convex=c_df.sample(n=20)"
   ]
  },
  {
   "cell_type": "code",
   "execution_count": 103,
   "metadata": {
    "id": "5NQ7HYSZela8"
   },
   "outputs": [],
   "source": [
    "hull = ConvexHull(user_history_convex)"
   ]
  },
  {
   "cell_type": "code",
   "execution_count": 115,
   "metadata": {
    "id": "B1WrOAcGfWbH"
   },
   "outputs": [
    {
     "name": "stdout",
     "output_type": "stream",
     "text": [
      "[[ 9  1 12 ... 10  8  4]\n",
      " [14  9  1 ... 10  8  4]\n",
      " [14  9  1 ... 13  8  4]\n",
      " ...\n",
      " [ 2  5  3 ... 13  8  4]\n",
      " [ 2 18  3 ... 13 10  4]\n",
      " [ 2  6 18 ... 13 10  4]]\n"
     ]
    }
   ],
   "source": [
    "print(hull.simplices)"
   ]
  },
  {
   "cell_type": "code",
   "execution_count": null,
   "metadata": {},
   "outputs": [],
   "source": []
  }
 ],
 "metadata": {
  "accelerator": "TPU",
  "colab": {
   "provenance": [],
   "toc_visible": true
  },
  "gpuClass": "standard",
  "kernelspec": {
   "display_name": "Python 3 (ipykernel)",
   "language": "python",
   "name": "python3"
  },
  "language_info": {
   "codemirror_mode": {
    "name": "ipython",
    "version": 3
   },
   "file_extension": ".py",
   "mimetype": "text/x-python",
   "name": "python",
   "nbconvert_exporter": "python",
   "pygments_lexer": "ipython3",
   "version": "3.9.13"
  }
 },
 "nbformat": 4,
 "nbformat_minor": 1
}
